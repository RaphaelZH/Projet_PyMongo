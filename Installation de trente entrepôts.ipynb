{
 "cells": [
  {
   "cell_type": "markdown",
   "metadata": {},
   "source": [
    "# Préparation"
   ]
  },
  {
   "cell_type": "markdown",
   "metadata": {},
   "source": [
    "## Installation des packages"
   ]
  },
  {
   "cell_type": "code",
   "execution_count": 1,
   "metadata": {},
   "outputs": [],
   "source": [
    "import pymongo\n",
    "from pymongo import MongoClient\n",
    "import json\n",
    "import ujson\n",
    "from bson import json_util\n",
    "from bson.json_util import loads"
   ]
  },
  {
   "cell_type": "markdown",
   "metadata": {},
   "source": [
    "## Connexion à la base de données"
   ]
  },
  {
   "cell_type": "code",
   "execution_count": 2,
   "metadata": {},
   "outputs": [],
   "source": [
    "client = MongoClient(host=\"localhost\", port=27017)\n",
    "db = client[\"30_Warehouses\"]"
   ]
  },
  {
   "cell_type": "markdown",
   "metadata": {},
   "source": [
    "# Installation des fichiers de normalisation"
   ]
  },
  {
   "cell_type": "markdown",
   "metadata": {},
   "source": [
    "## Installation de la collection `Customer_30`"
   ]
  },
  {
   "cell_type": "code",
   "execution_count": 3,
   "metadata": {},
   "outputs": [
    {
     "name": "stdout",
     "output_type": "stream",
     "text": [
      "Fichiers Customer_1.json, Customer_2_10.json, Customer_11_16.json, Customer_17_20.json et Customer_21_30.json sont insérés avec succès.\n"
     ]
    }
   ],
   "source": [
    "Customer_30 = db[\"Customer_30\"]\n",
    "\n",
    "data = []\n",
    "with open(\"../1_Warehouse/Normalization/Customer_1.json\") as f:\n",
    "    for line in f:\n",
    "        data.append(json.loads(line))\n",
    "with open(\"../10_Warehouses/Normalization/Customer_2_10.json\") as f:\n",
    "    for line in f:\n",
    "        data.append(json.loads(line))\n",
    "with open(\"../20_Warehouses/Normalization/Customer_11_16.json\") as f:\n",
    "    for line in f:\n",
    "        data.append(json.loads(line))\n",
    "with open(\"../20_Warehouses/Normalization/Customer_17_20.json\") as f:\n",
    "    for line in f:\n",
    "        data.append(json.loads(line))\n",
    "with open(\"./Normalization/Customer_21_30.json\") as f:\n",
    "    for line in f:\n",
    "        data.append(json.loads(line))\n",
    "Customer_30.insert_many(data)\n",
    "print(\"Fichiers Customer_1.json, Customer_2_10.json, \\\n",
    "Customer_11_16.json, Customer_17_20.json et Customer_21_30.json sont \\\n",
    "insérés avec succès.\")"
   ]
  },
  {
   "cell_type": "markdown",
   "metadata": {},
   "source": [
    "## Installation de la collection `Order_30`"
   ]
  },
  {
   "cell_type": "code",
   "execution_count": 4,
   "metadata": {
    "code_folding": []
   },
   "outputs": [
    {
     "name": "stdout",
     "output_type": "stream",
     "text": [
      "Fichiers Order_1_10.json, Order_11_20 et Order_21_30.json sont insérés avec succès.\n"
     ]
    }
   ],
   "source": [
    "Order_30 = db[\"Order_30\"]\n",
    "\n",
    "data = []\n",
    "with open(\"../10_Warehouses/Normalization/Order_1_10.json\") as f:\n",
    "    for line in f:\n",
    "        data.append(json.loads(line))\n",
    "with open(\"../20_Warehouses/Normalization/Order_11_20.json\") as f:\n",
    "    for line in f:\n",
    "        data.append(json.loads(line))\n",
    "with open(\"./Normalization/Order_21_30.json\") as f:\n",
    "    for line in f:\n",
    "        data.append(json.loads(line))\n",
    "Order_30.insert_many(data)\n",
    "print(\"Fichiers Order_1_10.json, Order_11_20 et Order_21_30.json sont \\\n",
    "insérés avec succès.\")"
   ]
  },
  {
   "cell_type": "markdown",
   "metadata": {},
   "source": [
    "## Installation de la collection `Order_Line_30`"
   ]
  },
  {
   "cell_type": "code",
   "execution_count": 5,
   "metadata": {},
   "outputs": [
    {
     "name": "stdout",
     "output_type": "stream",
     "text": [
      "Fichiers Order_Line_1_20.json, Order_Line_21, Order_Line_22.json, Order_Line_23.json, Order_Line_24.json, Order_Line_25.json, Order_Line_26.json, Order_Line_27.json, v, Order_Line_28.json, Order_Line_29.json et Order_Line_30.json sont insérés avec succès.\n"
     ]
    }
   ],
   "source": [
    "Order_Line_30 = db[\"Order_Line_30\"]\n",
    "\n",
    "data = []\n",
    "with open(\"../20_Warehouses/Normalization/Order_Line_1_20.json\") as f:\n",
    "    for line in f:\n",
    "        data.append(json.loads(line))\n",
    "with open(\"./Normalization/Order_Line_21.json\") as f:\n",
    "    for line in f:\n",
    "        data.append(json.loads(line))\n",
    "with open(\"./Normalization/Order_Line_22.json\") as f:\n",
    "    for line in f:\n",
    "        data.append(json.loads(line))\n",
    "with open(\"./Normalization/Order_Line_23.json\") as f:\n",
    "    for line in f:\n",
    "        data.append(json.loads(line))\n",
    "with open(\"./Normalization/Order_Line_24.json\") as f:\n",
    "    for line in f:\n",
    "        data.append(json.loads(line))\n",
    "with open(\"./Normalization/Order_Line_25.json\") as f:\n",
    "    for line in f:\n",
    "        data.append(json.loads(line))\n",
    "with open(\"./Normalization/Order_Line_26.json\") as f:\n",
    "    for line in f:\n",
    "        data.append(json.loads(line))\n",
    "with open(\"./Normalization/Order_Line_27.json\") as f:\n",
    "    for line in f:\n",
    "        data.append(json.loads(line))\n",
    "with open(\"./Normalization/Order_Line_28.json\") as f:\n",
    "    for line in f:\n",
    "        data.append(json.loads(line))\n",
    "with open(\"./Normalization/Order_Line_29.json\") as f:\n",
    "    for line in f:\n",
    "        data.append(json.loads(line))\n",
    "with open(\"./Normalization/Order_Line_30.json\") as f:\n",
    "    for line in f:\n",
    "        data.append(json.loads(line))\n",
    "Order_Line_30.insert_many(data)\n",
    "print(\"Fichiers Order_Line_1_20.json, Order_Line_21, Order_Line_22.json\\\n",
    ", Order_Line_23.json, Order_Line_24.json, Order_Line_25.json, \\\n",
    "Order_Line_26.json, Order_Line_27.json, v, Order_Line_28.json, \\\n",
    "Order_Line_29.json et Order_Line_30.json sont insérés avec succès.\")"
   ]
  },
  {
   "cell_type": "markdown",
   "metadata": {},
   "source": [
    "# Adjonction des index des collections installées"
   ]
  },
  {
   "cell_type": "markdown",
   "metadata": {},
   "source": [
    "## Adjonction des index de la collection `Customer_30`"
   ]
  },
  {
   "cell_type": "code",
   "execution_count": 6,
   "metadata": {},
   "outputs": [
    {
     "data": {
      "text/plain": [
       "['_id_', 'c_id_1', 'c_d_id_1', 'c_w_id_1']"
      ]
     },
     "execution_count": 6,
     "metadata": {},
     "output_type": "execute_result"
    }
   ],
   "source": [
    "result = db.Customer_30.create_index([('c_id', pymongo.ASCENDING)])\n",
    "result = db.Customer_30.create_index([('c_d_id', pymongo.ASCENDING)])\n",
    "result = db.Customer_30.create_index([('c_w_id', pymongo.ASCENDING)])\n",
    "list(db.Customer_30.index_information())"
   ]
  },
  {
   "cell_type": "markdown",
   "metadata": {},
   "source": [
    "## Adjonction des index de la collection `Order_30`"
   ]
  },
  {
   "cell_type": "code",
   "execution_count": 7,
   "metadata": {},
   "outputs": [
    {
     "data": {
      "text/plain": [
       "['_id_', 'o_id_1', 'o_d_id_1', 'o_w_id_1', 'o_c_id_1']"
      ]
     },
     "execution_count": 7,
     "metadata": {},
     "output_type": "execute_result"
    }
   ],
   "source": [
    "result = db.Order_30.create_index([('o_id', pymongo.ASCENDING)])\n",
    "result = db.Order_30.create_index([('o_d_id', pymongo.ASCENDING)])\n",
    "result = db.Order_30.create_index([('o_w_id', pymongo.ASCENDING)])\n",
    "result = db.Order_30.create_index([('o_c_id', pymongo.ASCENDING)])\n",
    "list(db.Order_30.index_information())"
   ]
  },
  {
   "cell_type": "markdown",
   "metadata": {},
   "source": [
    "## Adjonction des index de la collection `Order_Line_30`"
   ]
  },
  {
   "cell_type": "code",
   "execution_count": 8,
   "metadata": {},
   "outputs": [
    {
     "data": {
      "text/plain": [
       "['_id_', 'ol_id_1', 'ol_d_id_1', 'ol_w_id_1']"
      ]
     },
     "execution_count": 8,
     "metadata": {},
     "output_type": "execute_result"
    }
   ],
   "source": [
    "result = db.Order_Line_30.create_index([('ol_id', pymongo.ASCENDING)])\n",
    "result = db.Order_Line_30.create_index([('ol_d_id', pymongo.ASCENDING)])\n",
    "result = db.Order_Line_30.create_index([('ol_w_id', pymongo.ASCENDING)])\n",
    "list(db.Order_Line_30.index_information())"
   ]
  },
  {
   "cell_type": "markdown",
   "metadata": {},
   "source": [
    "# Semi-dénormalisation"
   ]
  },
  {
   "cell_type": "markdown",
   "metadata": {},
   "source": [
    "## Création du fichier au format JSON"
   ]
  },
  {
   "cell_type": "code",
   "execution_count": 9,
   "metadata": {},
   "outputs": [
    {
     "name": "stdout",
     "output_type": "stream",
     "text": [
      "Fichier Semi_30.json est créé avec succès.\n"
     ]
    }
   ],
   "source": [
    "i = 1\n",
    "while i <= 3000:\n",
    "    i_str = str(i)\n",
    "    ujson.dumps(\n",
    "        db.Order_30.aggregate(\n",
    "            [{\n",
    "                \"$match\": {\n",
    "                    \"o_id\": i_str\n",
    "                }\n",
    "            },\n",
    "             {\n",
    "                 \"$lookup\": {\n",
    "                     \"from\":\n",
    "                     \"Order_Line_30\",\n",
    "                     \"let\": {\n",
    "                         \"o_id\": \"$o_id\",\n",
    "                         \"o_d_id\": \"$o_d_id\",\n",
    "                         \"o_w_id\": \"$o_w_id\"\n",
    "                     },\n",
    "                     \"pipeline\": [{\n",
    "                         \"$match\": {\n",
    "                             \"$expr\": {\n",
    "                                 \"$and\": [{\n",
    "                                     \"$eq\": [\"$ol_id\", \"$$o_id\"]\n",
    "                                 }, {\n",
    "                                     \"$eq\": [\"$ol_d_id\", \"$$o_d_id\"]\n",
    "                                 }, {\n",
    "                                     \"$eq\": [\"$ol_w_id\", \"$$o_w_id\"]\n",
    "                                 }]\n",
    "                             }\n",
    "                         }\n",
    "                     }],\n",
    "                     \"as\":\n",
    "                     \"order_lines\"\n",
    "                 }\n",
    "             }, {\n",
    "                 \"$out\": \"tmp\"\n",
    "             }]))\n",
    "    cursor = db.tmp.find({})\n",
    "    file = open(\"./Denormalization/Semi_30.json\", \"a\")\n",
    "    for document in cursor:\n",
    "        file.write(json.dumps(document, default=json_util.default))\n",
    "        file.write('\\n')\n",
    "    i += 1\n",
    "\n",
    "print(\"Fichier Semi_30.json est créé avec succès.\")"
   ]
  },
  {
   "cell_type": "markdown",
   "metadata": {},
   "source": [
    "##  Installation de la collection `Semi_30`"
   ]
  },
  {
   "cell_type": "code",
   "execution_count": 10,
   "metadata": {},
   "outputs": [
    {
     "name": "stdout",
     "output_type": "stream",
     "text": [
      "Fichier Semi_30.json est inséré avec succès.\n"
     ]
    }
   ],
   "source": [
    "Semi_30 = db[\"Semi_30\"]\n",
    "\n",
    "data = []\n",
    "with open(\"./Denormalization/Semi_30.json\", \"r\") as f:\n",
    "    for line in f:\n",
    "        data.append(loads(line))\n",
    "Semi_30.insert_many(data)\n",
    "print(\"Fichier Semi_30.json est inséré avec succès.\")"
   ]
  },
  {
   "cell_type": "markdown",
   "metadata": {},
   "source": [
    "## Monstration d’un échantillon"
   ]
  },
  {
   "cell_type": "code",
   "execution_count": 11,
   "metadata": {},
   "outputs": [
    {
     "data": {
      "text/plain": [
       "[{'o_id': '1',\n",
       "  'o_d_id': '1',\n",
       "  'o_w_id': '10',\n",
       "  'o_c_id': '1',\n",
       "  'o_entry_d': '2018-07-19 00:00:00',\n",
       "  'o_carrier_id': '4',\n",
       "  'o_ol_cnt': '11',\n",
       "  'o_all_local': '1',\n",
       "  'order_lines': [{'_id': ObjectId('5c4dce67e3ecda1681f32857'),\n",
       "    'ol_id': '1',\n",
       "    'ol_d_id': '1',\n",
       "    'ol_w_id': '10',\n",
       "    'ol_number': '1',\n",
       "    'ol_i_id': '4212',\n",
       "    'ol_supply_w_id': '10',\n",
       "    'ol_delivery_d': '2018-07-20 00:00:00',\n",
       "    'ol_quantity': 5,\n",
       "    'ol_amount': 68.77,\n",
       "    'ol_dist_info': '0ntvZPD1W39kURLaF55k7oFp'},\n",
       "   {'_id': ObjectId('5c4dce67e3ecda1681f32858'),\n",
       "    'ol_id': '1',\n",
       "    'ol_d_id': '1',\n",
       "    'ol_w_id': '10',\n",
       "    'ol_number': '2',\n",
       "    'ol_i_id': '70604',\n",
       "    'ol_supply_w_id': '10',\n",
       "    'ol_delivery_d': '2018-07-20 00:00:00',\n",
       "    'ol_quantity': 5,\n",
       "    'ol_amount': 30.81,\n",
       "    'ol_dist_info': 'm8Plghxgs3a9CrK5yAcBpr5f'},\n",
       "   {'_id': ObjectId('5c4dce67e3ecda1681f32859'),\n",
       "    'ol_id': '1',\n",
       "    'ol_d_id': '1',\n",
       "    'ol_w_id': '10',\n",
       "    'ol_number': '3',\n",
       "    'ol_i_id': '66883',\n",
       "    'ol_supply_w_id': '10',\n",
       "    'ol_delivery_d': '2018-07-20 00:00:00',\n",
       "    'ol_quantity': 5,\n",
       "    'ol_amount': 80.48,\n",
       "    'ol_dist_info': '3rdtYL1CIyZ7emGPKxbjaXLR'},\n",
       "   {'_id': ObjectId('5c4dce67e3ecda1681f3285a'),\n",
       "    'ol_id': '1',\n",
       "    'ol_d_id': '1',\n",
       "    'ol_w_id': '10',\n",
       "    'ol_number': '4',\n",
       "    'ol_i_id': '71399',\n",
       "    'ol_supply_w_id': '10',\n",
       "    'ol_delivery_d': '2018-07-20 00:00:00',\n",
       "    'ol_quantity': 5,\n",
       "    'ol_amount': 19.61,\n",
       "    'ol_dist_info': 'TFlVpbeF503AgkJdvLKeXOVG'},\n",
       "   {'_id': ObjectId('5c4dce67e3ecda1681f3285b'),\n",
       "    'ol_id': '1',\n",
       "    'ol_d_id': '1',\n",
       "    'ol_w_id': '10',\n",
       "    'ol_number': '5',\n",
       "    'ol_i_id': '44809',\n",
       "    'ol_supply_w_id': '10',\n",
       "    'ol_delivery_d': '2018-07-20 00:00:00',\n",
       "    'ol_quantity': 5,\n",
       "    'ol_amount': 58.72,\n",
       "    'ol_dist_info': 'oVDf9KKQlUOQSJqyaqB12oto'},\n",
       "   {'_id': ObjectId('5c4dce67e3ecda1681f3285c'),\n",
       "    'ol_id': '1',\n",
       "    'ol_d_id': '1',\n",
       "    'ol_w_id': '10',\n",
       "    'ol_number': '6',\n",
       "    'ol_i_id': '64643',\n",
       "    'ol_supply_w_id': '10',\n",
       "    'ol_delivery_d': '2018-07-20 00:00:00',\n",
       "    'ol_quantity': 5,\n",
       "    'ol_amount': 75.5,\n",
       "    'ol_dist_info': 'WFzApty1GGdKUkOt3DYTyaNR'},\n",
       "   {'_id': ObjectId('5c4dce67e3ecda1681f3285d'),\n",
       "    'ol_id': '1',\n",
       "    'ol_d_id': '1',\n",
       "    'ol_w_id': '10',\n",
       "    'ol_number': '7',\n",
       "    'ol_i_id': '51472',\n",
       "    'ol_supply_w_id': '10',\n",
       "    'ol_delivery_d': '2018-07-20 00:00:00',\n",
       "    'ol_quantity': 5,\n",
       "    'ol_amount': 55.66,\n",
       "    'ol_dist_info': 'GCLmjmUhvMNHNUpAdOpp6rv5'},\n",
       "   {'_id': ObjectId('5c4dce67e3ecda1681f3285e'),\n",
       "    'ol_id': '1',\n",
       "    'ol_d_id': '1',\n",
       "    'ol_w_id': '10',\n",
       "    'ol_number': '8',\n",
       "    'ol_i_id': '86128',\n",
       "    'ol_supply_w_id': '10',\n",
       "    'ol_delivery_d': '2018-07-20 00:00:00',\n",
       "    'ol_quantity': 5,\n",
       "    'ol_amount': 91.05,\n",
       "    'ol_dist_info': 'bQfeAWHuoAgc7tmaIVKblfM2'}]}]"
      ]
     },
     "execution_count": 11,
     "metadata": {},
     "output_type": "execute_result"
    }
   ],
   "source": [
    "list(\n",
    "    db.Semi_30.find({\n",
    "        \"$and\": [{\n",
    "            \"o_id\": \"1\"\n",
    "        }, {\n",
    "            \"o_c_id\": \"1\"\n",
    "        }, {\n",
    "            \"o_d_id\": \"1\"\n",
    "        }, {\n",
    "            \"o_w_id\": \"10\"\n",
    "        }]\n",
    "    }, {\n",
    "        \"_id\": 0,\n",
    "    }))"
   ]
  },
  {
   "cell_type": "markdown",
   "metadata": {},
   "source": [
    "## Adjonction des index de la collection `Semi_30`"
   ]
  },
  {
   "cell_type": "code",
   "execution_count": 12,
   "metadata": {},
   "outputs": [
    {
     "data": {
      "text/plain": [
       "['_id_', 'o_id_1', 'o_d_id_1', 'o_w_id_1', 'o_c_id_1']"
      ]
     },
     "execution_count": 12,
     "metadata": {},
     "output_type": "execute_result"
    }
   ],
   "source": [
    "result = db.Semi_30.create_index([('o_id', pymongo.ASCENDING)])\n",
    "result = db.Semi_30.create_index([('o_d_id', pymongo.ASCENDING)])\n",
    "result = db.Semi_30.create_index([('o_w_id', pymongo.ASCENDING)])\n",
    "result = db.Semi_30.create_index([('o_c_id', pymongo.ASCENDING)])\n",
    "list(db.Semi_30.index_information())"
   ]
  },
  {
   "cell_type": "markdown",
   "metadata": {},
   "source": [
    "# Dénormalisation"
   ]
  },
  {
   "cell_type": "markdown",
   "metadata": {},
   "source": [
    "## Création du fichier au format JSON"
   ]
  },
  {
   "cell_type": "code",
   "execution_count": 13,
   "metadata": {},
   "outputs": [
    {
     "name": "stdout",
     "output_type": "stream",
     "text": [
      "Fichier Denormal_30.json est créé avec succès.\n"
     ]
    }
   ],
   "source": [
    "i = 1\n",
    "while i <= 3000:\n",
    "    i_str = str(i)\n",
    "    ujson.dumps(\n",
    "        db.Customer_30.aggregate(\n",
    "            [{\n",
    "                \"$match\": {\n",
    "                    \"c_id\": i_str\n",
    "                }\n",
    "            },\n",
    "             {\n",
    "                 \"$lookup\": {\n",
    "                     \"from\":\n",
    "                     \"Semi_30\",\n",
    "                     \"let\": {\n",
    "                         \"c_id\": \"$c_id\",\n",
    "                         \"c_d_id\": \"$c_d_id\",\n",
    "                         \"c_w_id\": \"$c_w_id\"\n",
    "                     },\n",
    "                     \"pipeline\": [{\n",
    "                         \"$match\": {\n",
    "                             \"$expr\": {\n",
    "                                 \"$and\": [{\n",
    "                                     \"$eq\": [\"$o_c_id\", \"$$c_id\"]\n",
    "                                 }, {\n",
    "                                     \"$eq\": [\"$o_d_id\", \"$$c_d_id\"]\n",
    "                                 }, {\n",
    "                                     \"$eq\": [\"$o_w_id\", \"$$c_w_id\"]\n",
    "                                 }]\n",
    "                             }\n",
    "                         }\n",
    "                     }],\n",
    "                     \"as\":\n",
    "                     \"customer_order\"\n",
    "                 }\n",
    "             }, {\n",
    "                 \"$out\": \"tmp\"\n",
    "             }]))\n",
    "    cursor = db.tmp.find({})\n",
    "    file = open(\"./Denormalization/Denormal_30.json\", \"a\")\n",
    "    for document in cursor:\n",
    "        file.write(json.dumps(document, default=json_util.default))\n",
    "        file.write('\\n')\n",
    "    i += 1\n",
    "print(\"Fichier Denormal_30.json est créé avec succès.\")"
   ]
  },
  {
   "cell_type": "markdown",
   "metadata": {},
   "source": [
    "##  Installation de la collection `Denormal_30`"
   ]
  },
  {
   "cell_type": "code",
   "execution_count": 14,
   "metadata": {},
   "outputs": [
    {
     "name": "stdout",
     "output_type": "stream",
     "text": [
      "Fichier Denormal_30.json est inséré avec succès.\n"
     ]
    }
   ],
   "source": [
    "Denormal_30 = db[\"Denormal_30\"]\n",
    "\n",
    "data = []\n",
    "with open(\"./Denormalization/Denormal_30.json\", \"r\") as f:\n",
    "    for line in f:\n",
    "        data.append(loads(line))\n",
    "Denormal_30.insert_many(data)\n",
    "print(\"Fichier Denormal_30.json est inséré avec succès.\")"
   ]
  },
  {
   "cell_type": "markdown",
   "metadata": {},
   "source": [
    "## Monstration d’un échantillon"
   ]
  },
  {
   "cell_type": "code",
   "execution_count": 15,
   "metadata": {},
   "outputs": [
    {
     "data": {
      "text/plain": [
       "[{'c_id': '1',\n",
       "  'c_d_id': '1',\n",
       "  'c_w_id': '10',\n",
       "  'c_first': 'sDgltcyto8zPK',\n",
       "  'c_middle': 'OE',\n",
       "  'c_last': 'BARBARBAR',\n",
       "  'c_street_1': 'cuo4mdcG6Jx',\n",
       "  'c_street_2': 'FyQuERSWPQNK34yRY',\n",
       "  'c_city': 'Q6wQ0D6ndeAXkCz9Gr',\n",
       "  'c_state': 'Do',\n",
       "  'c_zip': 'epNvGv9om',\n",
       "  'c_phone': '0839829437892019',\n",
       "  'c_since': '2018-07-26 00:00:00',\n",
       "  'c_credit': 'BC',\n",
       "  'c_credit_lim': '50000',\n",
       "  'c_discount': '0.43',\n",
       "  'c_balance': -10.0,\n",
       "  'c_ytd_payment': 10.0,\n",
       "  'c_payment_cnt': 1,\n",
       "  'c_delivery_cnt': 0,\n",
       "  'c_data': 'prAvUKEBIuwkpUVwvlv0Q1e8n0jCPlwwA6RsdlW7vj3VXKx08iOSJFJlfNZ0MR8Ru4imCu53ZprkWKTaxZjeUuTAKKsDCoRWotlX3O2e6BtlTGxwgJiHIrxXMlHOVbc0J8WiapmQsFVOXY8Z6As3CRYZ9dvkLLcmyEmLykoAbAcvsdX910qryDcIcNPRFf7U8DqIpDgAXCnF4do6jG2LGPNUlEPeaYNsq71aW4cSkv4W9R2iFBuhQb87WxDlY3DiQnC8f76l4kmh68ppd6pzvY6hSwSfDtGacPFPUEToerSesfcnik9R4e5i',\n",
       "  'customer_order': [{'_id': ObjectId('5c4dcdeee3ecda1681c05986'),\n",
       "    'o_id': '1',\n",
       "    'o_d_id': '1',\n",
       "    'o_w_id': '10',\n",
       "    'o_c_id': '1',\n",
       "    'o_entry_d': '2018-07-19 00:00:00',\n",
       "    'o_carrier_id': '4',\n",
       "    'o_ol_cnt': '11',\n",
       "    'o_all_local': '1',\n",
       "    'order_lines': [{'_id': ObjectId('5c4dce67e3ecda1681f32857'),\n",
       "      'ol_id': '1',\n",
       "      'ol_d_id': '1',\n",
       "      'ol_w_id': '10',\n",
       "      'ol_number': '1',\n",
       "      'ol_i_id': '4212',\n",
       "      'ol_supply_w_id': '10',\n",
       "      'ol_delivery_d': '2018-07-20 00:00:00',\n",
       "      'ol_quantity': 5,\n",
       "      'ol_amount': 68.77,\n",
       "      'ol_dist_info': '0ntvZPD1W39kURLaF55k7oFp'},\n",
       "     {'_id': ObjectId('5c4dce67e3ecda1681f32858'),\n",
       "      'ol_id': '1',\n",
       "      'ol_d_id': '1',\n",
       "      'ol_w_id': '10',\n",
       "      'ol_number': '2',\n",
       "      'ol_i_id': '70604',\n",
       "      'ol_supply_w_id': '10',\n",
       "      'ol_delivery_d': '2018-07-20 00:00:00',\n",
       "      'ol_quantity': 5,\n",
       "      'ol_amount': 30.81,\n",
       "      'ol_dist_info': 'm8Plghxgs3a9CrK5yAcBpr5f'},\n",
       "     {'_id': ObjectId('5c4dce67e3ecda1681f32859'),\n",
       "      'ol_id': '1',\n",
       "      'ol_d_id': '1',\n",
       "      'ol_w_id': '10',\n",
       "      'ol_number': '3',\n",
       "      'ol_i_id': '66883',\n",
       "      'ol_supply_w_id': '10',\n",
       "      'ol_delivery_d': '2018-07-20 00:00:00',\n",
       "      'ol_quantity': 5,\n",
       "      'ol_amount': 80.48,\n",
       "      'ol_dist_info': '3rdtYL1CIyZ7emGPKxbjaXLR'},\n",
       "     {'_id': ObjectId('5c4dce67e3ecda1681f3285a'),\n",
       "      'ol_id': '1',\n",
       "      'ol_d_id': '1',\n",
       "      'ol_w_id': '10',\n",
       "      'ol_number': '4',\n",
       "      'ol_i_id': '71399',\n",
       "      'ol_supply_w_id': '10',\n",
       "      'ol_delivery_d': '2018-07-20 00:00:00',\n",
       "      'ol_quantity': 5,\n",
       "      'ol_amount': 19.61,\n",
       "      'ol_dist_info': 'TFlVpbeF503AgkJdvLKeXOVG'},\n",
       "     {'_id': ObjectId('5c4dce67e3ecda1681f3285b'),\n",
       "      'ol_id': '1',\n",
       "      'ol_d_id': '1',\n",
       "      'ol_w_id': '10',\n",
       "      'ol_number': '5',\n",
       "      'ol_i_id': '44809',\n",
       "      'ol_supply_w_id': '10',\n",
       "      'ol_delivery_d': '2018-07-20 00:00:00',\n",
       "      'ol_quantity': 5,\n",
       "      'ol_amount': 58.72,\n",
       "      'ol_dist_info': 'oVDf9KKQlUOQSJqyaqB12oto'},\n",
       "     {'_id': ObjectId('5c4dce67e3ecda1681f3285c'),\n",
       "      'ol_id': '1',\n",
       "      'ol_d_id': '1',\n",
       "      'ol_w_id': '10',\n",
       "      'ol_number': '6',\n",
       "      'ol_i_id': '64643',\n",
       "      'ol_supply_w_id': '10',\n",
       "      'ol_delivery_d': '2018-07-20 00:00:00',\n",
       "      'ol_quantity': 5,\n",
       "      'ol_amount': 75.5,\n",
       "      'ol_dist_info': 'WFzApty1GGdKUkOt3DYTyaNR'},\n",
       "     {'_id': ObjectId('5c4dce67e3ecda1681f3285d'),\n",
       "      'ol_id': '1',\n",
       "      'ol_d_id': '1',\n",
       "      'ol_w_id': '10',\n",
       "      'ol_number': '7',\n",
       "      'ol_i_id': '51472',\n",
       "      'ol_supply_w_id': '10',\n",
       "      'ol_delivery_d': '2018-07-20 00:00:00',\n",
       "      'ol_quantity': 5,\n",
       "      'ol_amount': 55.66,\n",
       "      'ol_dist_info': 'GCLmjmUhvMNHNUpAdOpp6rv5'},\n",
       "     {'_id': ObjectId('5c4dce67e3ecda1681f3285e'),\n",
       "      'ol_id': '1',\n",
       "      'ol_d_id': '1',\n",
       "      'ol_w_id': '10',\n",
       "      'ol_number': '8',\n",
       "      'ol_i_id': '86128',\n",
       "      'ol_supply_w_id': '10',\n",
       "      'ol_delivery_d': '2018-07-20 00:00:00',\n",
       "      'ol_quantity': 5,\n",
       "      'ol_amount': 91.05,\n",
       "      'ol_dist_info': 'bQfeAWHuoAgc7tmaIVKblfM2'}]}]}]"
      ]
     },
     "execution_count": 15,
     "metadata": {},
     "output_type": "execute_result"
    }
   ],
   "source": [
    "list(\n",
    "    db.Denormal_30.find({\n",
    "        \"$and\": [{\n",
    "            \"c_id\": \"1\"\n",
    "        }, {\n",
    "            \"c_d_id\": \"1\"\n",
    "        }, {\n",
    "            \"c_w_id\": \"10\"\n",
    "        }]\n",
    "    }, {\n",
    "        \"_id\": 0,\n",
    "    }))"
   ]
  },
  {
   "cell_type": "markdown",
   "metadata": {},
   "source": [
    "## Adjonction des index de la collection `Denormal_30`"
   ]
  },
  {
   "cell_type": "code",
   "execution_count": 16,
   "metadata": {},
   "outputs": [
    {
     "data": {
      "text/plain": [
       "['_id_', 'c_id_1', 'c_d_id_1', 'c_w_id_1']"
      ]
     },
     "execution_count": 16,
     "metadata": {},
     "output_type": "execute_result"
    }
   ],
   "source": [
    "result = db.Denormal_30.create_index([('c_id', pymongo.ASCENDING)])\n",
    "result = db.Denormal_30.create_index([('c_d_id', pymongo.ASCENDING)])\n",
    "result = db.Denormal_30.create_index([('c_w_id', pymongo.ASCENDING)])\n",
    "list(db.Denormal_30.index_information())"
   ]
  }
 ],
 "metadata": {
  "kernelspec": {
   "display_name": "Python 3",
   "language": "python",
   "name": "python3"
  },
  "language_info": {
   "codemirror_mode": {
    "name": "ipython",
    "version": 3
   },
   "file_extension": ".py",
   "mimetype": "text/x-python",
   "name": "python",
   "nbconvert_exporter": "python",
   "pygments_lexer": "ipython3",
   "version": "3.7.1"
  },
  "nbTranslate": {
   "displayLangs": [
    "fr",
    "en"
   ],
   "hotkey": "alt-t",
   "langInMainMenu": true,
   "sourceLang": "en",
   "targetLang": "fr",
   "useGoogleTranslate": true
  },
  "toc": {
   "base_numbering": 1,
   "nav_menu": {},
   "number_sections": true,
   "sideBar": true,
   "skip_h1_title": false,
   "title_cell": "Table of Contents",
   "title_sidebar": "Contents",
   "toc_cell": false,
   "toc_position": {
    "height": "calc(100% - 180px)",
    "left": "10px",
    "top": "150px",
    "width": "320px"
   },
   "toc_section_display": true,
   "toc_window_display": true
  },
  "varInspector": {
   "cols": {
    "lenName": 16,
    "lenType": 16,
    "lenVar": 40
   },
   "kernels_config": {
    "python": {
     "delete_cmd_postfix": "",
     "delete_cmd_prefix": "del ",
     "library": "var_list.py",
     "varRefreshCmd": "print(var_dic_list())"
    },
    "r": {
     "delete_cmd_postfix": ") ",
     "delete_cmd_prefix": "rm(",
     "library": "var_list.r",
     "varRefreshCmd": "cat(var_dic_list()) "
    }
   },
   "position": {
    "height": "279.74px",
    "left": "1404.97px",
    "right": "20px",
    "top": "65.9722px",
    "width": "345.278px"
   },
   "types_to_exclude": [
    "module",
    "function",
    "builtin_function_or_method",
    "instance",
    "_Feature"
   ],
   "window_display": true
  }
 },
 "nbformat": 4,
 "nbformat_minor": 2
}
