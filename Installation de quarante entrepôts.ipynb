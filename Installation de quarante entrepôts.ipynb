{
 "cells": [
  {
   "cell_type": "markdown",
   "metadata": {},
   "source": [
    "# Préparation"
   ]
  },
  {
   "cell_type": "markdown",
   "metadata": {},
   "source": [
    "## Installation des packages"
   ]
  },
  {
   "cell_type": "code",
   "execution_count": 1,
   "metadata": {},
   "outputs": [],
   "source": [
    "import pymongo\n",
    "from pymongo import MongoClient\n",
    "import json\n",
    "import ujson\n",
    "from bson import json_util\n",
    "from bson.json_util import loads"
   ]
  },
  {
   "cell_type": "markdown",
   "metadata": {},
   "source": [
    "## Connexion à la base de données"
   ]
  },
  {
   "cell_type": "code",
   "execution_count": 2,
   "metadata": {},
   "outputs": [],
   "source": [
    "client = MongoClient(host=\"localhost\", port=27017)\n",
    "db = client[\"40_Warehouses\"]"
   ]
  },
  {
   "cell_type": "markdown",
   "metadata": {},
   "source": [
    "# Installation des fichiers de normalisation"
   ]
  },
  {
   "cell_type": "markdown",
   "metadata": {},
   "source": [
    "## Installation de la collection `Customer_40`"
   ]
  },
  {
   "cell_type": "code",
   "execution_count": 3,
   "metadata": {},
   "outputs": [
    {
     "name": "stdout",
     "output_type": "stream",
     "text": [
      "Fichiers Customer_1.json, Customer_2_10.json, Customer_11_16.json, Customer_17_20.json, Customer_21_30.json et Customer_31_40.json sont insérés avec succès.\n"
     ]
    }
   ],
   "source": [
    "Customer_40 = db[\"Customer_40\"]\n",
    "\n",
    "data = []\n",
    "with open(\"../1_Warehouse/Normalization/Customer_1.json\") as f:\n",
    "    for line in f:\n",
    "        data.append(json.loads(line))\n",
    "with open(\"../10_Warehouses/Normalization/Customer_2_10.json\") as f:\n",
    "    for line in f:\n",
    "        data.append(json.loads(line))\n",
    "with open(\"../20_Warehouses/Normalization/Customer_11_16.json\") as f:\n",
    "    for line in f:\n",
    "        data.append(json.loads(line))\n",
    "with open(\"../20_Warehouses/Normalization/Customer_17_20.json\") as f:\n",
    "    for line in f:\n",
    "        data.append(json.loads(line))\n",
    "with open(\"../30_Warehouses/Normalization/Customer_21_30.json\") as f:\n",
    "    for line in f:\n",
    "        data.append(json.loads(line))\n",
    "with open(\"./Normalization/Customer_31_40.json\") as f:\n",
    "    for line in f:\n",
    "        data.append(json.loads(line))\n",
    "Customer_40.insert_many(data)\n",
    "print(\"Fichiers Customer_1.json, Customer_2_10.json, \\\n",
    "Customer_11_16.json, Customer_17_20.json, Customer_21_30.json et \\\n",
    "Customer_31_40.json sont insérés avec succès.\")"
   ]
  },
  {
   "cell_type": "markdown",
   "metadata": {},
   "source": [
    "## Installation de la collection `Order_40`"
   ]
  },
  {
   "cell_type": "code",
   "execution_count": 4,
   "metadata": {
    "code_folding": []
   },
   "outputs": [
    {
     "name": "stdout",
     "output_type": "stream",
     "text": [
      "Fichiers Order_1_10.json, Order_11_20.json, Order_21_30.json et Order_31_40.json sont insérés avec succès.\n"
     ]
    }
   ],
   "source": [
    "Order_40 = db[\"Order_40\"]\n",
    "\n",
    "data = []\n",
    "with open(\"../10_Warehouses/Normalization/Order_1_10.json\") as f:\n",
    "    for line in f:\n",
    "        data.append(json.loads(line))\n",
    "with open(\"../20_Warehouses/Normalization/Order_11_20.json\") as f:\n",
    "    for line in f:\n",
    "        data.append(json.loads(line))\n",
    "with open(\"../30_Warehouses/Normalization/Order_21_30.json\") as f:\n",
    "    for line in f:\n",
    "        data.append(json.loads(line))\n",
    "with open(\"./Normalization/Order_31_40.json\") as f:\n",
    "    for line in f:\n",
    "        data.append(json.loads(line))\n",
    "Order_40.insert_many(data)\n",
    "print(\"Fichiers Order_1_10.json, Order_11_20.json, Order_21_30.json \\\n",
    "et Order_31_40.json sont insérés avec succès.\")"
   ]
  },
  {
   "cell_type": "markdown",
   "metadata": {},
   "source": [
    "## Installation de la collection `Order_Line_40`"
   ]
  },
  {
   "cell_type": "code",
   "execution_count": 5,
   "metadata": {},
   "outputs": [
    {
     "name": "stdout",
     "output_type": "stream",
     "text": [
      "Fichier Order_Line_1_20.json est inséré avec succès.\n"
     ]
    }
   ],
   "source": [
    "Order_Line_40 = db[\"Order_Line_40\"]\n",
    "\n",
    "data = []\n",
    "with open(\"../20_Warehouses/Normalization/Order_Line_1_20.json\") as f:\n",
    "    for line in f:\n",
    "        data.append(json.loads(line))\n",
    "with open(\"../30_Warehouses/Normalization/Order_Line_21.json\") as f:\n",
    "    for line in f:\n",
    "        data.append(json.loads(line))\n",
    "with open(\"../30_Warehouses/Normalization/Order_Line_22.json\") as f:\n",
    "    for line in f:\n",
    "        data.append(json.loads(line))\n",
    "with open(\"../30_Warehouses/Normalization/Order_Line_23.json\") as f:\n",
    "    for line in f:\n",
    "        data.append(json.loads(line))\n",
    "with open(\"../30_Warehouses/Normalization/Order_Line_24.json\") as f:\n",
    "    for line in f:\n",
    "        data.append(json.loads(line))\n",
    "with open(\"../30_Warehouses/Normalization/Order_Line_25.json\") as f:\n",
    "    for line in f:\n",
    "        data.append(json.loads(line))\n",
    "with open(\"../30_Warehouses/Normalization/Order_Line_26.json\") as f:\n",
    "    for line in f:\n",
    "        data.append(json.loads(line))\n",
    "with open(\"../30_Warehouses/Normalization/Order_Line_27.json\") as f:\n",
    "    for line in f:\n",
    "        data.append(json.loads(line))\n",
    "with open(\"../30_Warehouses/Normalization/Order_Line_28.json\") as f:\n",
    "    for line in f:\n",
    "        data.append(json.loads(line))\n",
    "with open(\"../30_Warehouses/Normalization/Order_Line_29.json\") as f:\n",
    "    for line in f:\n",
    "        data.append(json.loads(line))\n",
    "with open(\"../30_Warehouses/Normalization/Order_Line_30.json\") as f:\n",
    "    for line in f:\n",
    "        data.append(json.loads(line))\n",
    "with open(\"./Normalization/Order_Line_31_40.json\") as f:\n",
    "    for line in f:\n",
    "        data.append(json.loads(line))\n",
    "Order_Line_40.insert_many(data)\n",
    "print(\"Fichier Order_Line_1_20.json est inséré avec succès.\")"
   ]
  },
  {
   "cell_type": "markdown",
   "metadata": {},
   "source": [
    "# Adjonction des index des collections installées"
   ]
  },
  {
   "cell_type": "markdown",
   "metadata": {},
   "source": [
    "## Adjonction des index de la collection `Customer_40`"
   ]
  },
  {
   "cell_type": "code",
   "execution_count": 6,
   "metadata": {},
   "outputs": [
    {
     "data": {
      "text/plain": [
       "['_id_', 'c_id_1', 'c_d_id_1', 'c_w_id_1']"
      ]
     },
     "execution_count": 6,
     "metadata": {},
     "output_type": "execute_result"
    }
   ],
   "source": [
    "result = db.Customer_40.create_index([('c_id', pymongo.ASCENDING)])\n",
    "result = db.Customer_40.create_index([('c_d_id', pymongo.ASCENDING)])\n",
    "result = db.Customer_40.create_index([('c_w_id', pymongo.ASCENDING)])\n",
    "list(db.Customer_40.index_information())"
   ]
  },
  {
   "cell_type": "markdown",
   "metadata": {},
   "source": [
    "## Adjonction des index de la collection `Order_40`"
   ]
  },
  {
   "cell_type": "code",
   "execution_count": 7,
   "metadata": {},
   "outputs": [
    {
     "data": {
      "text/plain": [
       "['_id_', 'o_id_1', 'o_d_id_1', 'o_w_id_1', 'o_c_id_1']"
      ]
     },
     "execution_count": 7,
     "metadata": {},
     "output_type": "execute_result"
    }
   ],
   "source": [
    "result = db.Order_40.create_index([('o_id', pymongo.ASCENDING)])\n",
    "result = db.Order_40.create_index([('o_d_id', pymongo.ASCENDING)])\n",
    "result = db.Order_40.create_index([('o_w_id', pymongo.ASCENDING)])\n",
    "result = db.Order_40.create_index([('o_c_id', pymongo.ASCENDING)])\n",
    "list(db.Order_40.index_information())"
   ]
  },
  {
   "cell_type": "markdown",
   "metadata": {},
   "source": [
    "## Adjonction des index de la collection `Order_Line_40`"
   ]
  },
  {
   "cell_type": "code",
   "execution_count": 8,
   "metadata": {},
   "outputs": [
    {
     "data": {
      "text/plain": [
       "['_id_', 'ol_id_1', 'ol_d_id_1', 'ol_w_id_1']"
      ]
     },
     "execution_count": 8,
     "metadata": {},
     "output_type": "execute_result"
    }
   ],
   "source": [
    "result = db.Order_Line_40.create_index([('ol_id', pymongo.ASCENDING)])\n",
    "result = db.Order_Line_40.create_index([('ol_d_id', pymongo.ASCENDING)])\n",
    "result = db.Order_Line_40.create_index([('ol_w_id', pymongo.ASCENDING)])\n",
    "list(db.Order_Line_40.index_information())"
   ]
  },
  {
   "cell_type": "markdown",
   "metadata": {},
   "source": [
    "# Semi-dénormalisation"
   ]
  },
  {
   "cell_type": "markdown",
   "metadata": {},
   "source": [
    "## Création du fichier au format JSON"
   ]
  },
  {
   "cell_type": "code",
   "execution_count": 9,
   "metadata": {},
   "outputs": [
    {
     "name": "stdout",
     "output_type": "stream",
     "text": [
      "Fichier Semi_40.json est créé avec succès.\n"
     ]
    }
   ],
   "source": [
    "i = 1\n",
    "while i <= 3000:\n",
    "    i_str = str(i)\n",
    "    ujson.dumps(\n",
    "        db.Order_40.aggregate(\n",
    "            [{\n",
    "                \"$match\": {\n",
    "                    \"o_id\": i_str\n",
    "                }\n",
    "            },\n",
    "             {\n",
    "                 \"$lookup\": {\n",
    "                     \"from\":\n",
    "                     \"Order_Line_40\",\n",
    "                     \"let\": {\n",
    "                         \"o_id\": \"$o_id\",\n",
    "                         \"o_d_id\": \"$o_d_id\",\n",
    "                         \"o_w_id\": \"$o_w_id\"\n",
    "                     },\n",
    "                     \"pipeline\": [{\n",
    "                         \"$match\": {\n",
    "                             \"$expr\": {\n",
    "                                 \"$and\": [{\n",
    "                                     \"$eq\": [\"$ol_id\", \"$$o_id\"]\n",
    "                                 }, {\n",
    "                                     \"$eq\": [\"$ol_d_id\", \"$$o_d_id\"]\n",
    "                                 }, {\n",
    "                                     \"$eq\": [\"$ol_w_id\", \"$$o_w_id\"]\n",
    "                                 }]\n",
    "                             }\n",
    "                         }\n",
    "                     }],\n",
    "                     \"as\":\n",
    "                     \"order_lines\"\n",
    "                 }\n",
    "             }, {\n",
    "                 \"$out\": \"tmp\"\n",
    "             }]))\n",
    "    cursor = db.tmp.find({})\n",
    "    file = open(\"./Denormalization/Semi_40.json\", \"a\")\n",
    "    for document in cursor:\n",
    "        file.write(json.dumps(document, default=json_util.default))\n",
    "        file.write('\\n')\n",
    "    i += 1\n",
    "\n",
    "print(\"Fichier Semi_40.json est créé avec succès.\")"
   ]
  },
  {
   "cell_type": "markdown",
   "metadata": {},
   "source": [
    "##  Installation de la collection `Semi_40`"
   ]
  },
  {
   "cell_type": "code",
   "execution_count": 10,
   "metadata": {},
   "outputs": [
    {
     "name": "stdout",
     "output_type": "stream",
     "text": [
      "Fichier Semi_40.json est inséré avec succès.\n"
     ]
    }
   ],
   "source": [
    "Semi_40 = db[\"Semi_40\"]\n",
    "\n",
    "data = []\n",
    "with open(\"./Denormalization/Semi_40.json\", \"r\") as f:\n",
    "    for line in f:\n",
    "        data.append(loads(line))\n",
    "Semi_40.insert_many(data)\n",
    "print(\"Fichier Semi_40.json est inséré avec succès.\")"
   ]
  },
  {
   "cell_type": "markdown",
   "metadata": {},
   "source": [
    "## Monstration d’un échantillon"
   ]
  },
  {
   "cell_type": "code",
   "execution_count": 11,
   "metadata": {},
   "outputs": [
    {
     "data": {
      "text/plain": [
       "[{'o_id': '1',\n",
       "  'o_d_id': '1',\n",
       "  'o_w_id': '10',\n",
       "  'o_c_id': '1',\n",
       "  'o_entry_d': '2018-07-19 00:00:00',\n",
       "  'o_carrier_id': '4',\n",
       "  'o_ol_cnt': '11',\n",
       "  'o_all_local': '1',\n",
       "  'order_lines': [{'_id': ObjectId('5c4f13cee3ecda1660545a4b'),\n",
       "    'ol_id': '1',\n",
       "    'ol_d_id': '1',\n",
       "    'ol_w_id': '10',\n",
       "    'ol_number': '1',\n",
       "    'ol_i_id': '4212',\n",
       "    'ol_supply_w_id': '10',\n",
       "    'ol_delivery_d': '2018-07-20 00:00:00',\n",
       "    'ol_quantity': 5,\n",
       "    'ol_amount': 68.77,\n",
       "    'ol_dist_info': '0ntvZPD1W39kURLaF55k7oFp'},\n",
       "   {'_id': ObjectId('5c4f13cee3ecda1660545a4c'),\n",
       "    'ol_id': '1',\n",
       "    'ol_d_id': '1',\n",
       "    'ol_w_id': '10',\n",
       "    'ol_number': '2',\n",
       "    'ol_i_id': '70604',\n",
       "    'ol_supply_w_id': '10',\n",
       "    'ol_delivery_d': '2018-07-20 00:00:00',\n",
       "    'ol_quantity': 5,\n",
       "    'ol_amount': 30.81,\n",
       "    'ol_dist_info': 'm8Plghxgs3a9CrK5yAcBpr5f'},\n",
       "   {'_id': ObjectId('5c4f13cee3ecda1660545a4d'),\n",
       "    'ol_id': '1',\n",
       "    'ol_d_id': '1',\n",
       "    'ol_w_id': '10',\n",
       "    'ol_number': '3',\n",
       "    'ol_i_id': '66883',\n",
       "    'ol_supply_w_id': '10',\n",
       "    'ol_delivery_d': '2018-07-20 00:00:00',\n",
       "    'ol_quantity': 5,\n",
       "    'ol_amount': 80.48,\n",
       "    'ol_dist_info': '3rdtYL1CIyZ7emGPKxbjaXLR'},\n",
       "   {'_id': ObjectId('5c4f13cee3ecda1660545a4e'),\n",
       "    'ol_id': '1',\n",
       "    'ol_d_id': '1',\n",
       "    'ol_w_id': '10',\n",
       "    'ol_number': '4',\n",
       "    'ol_i_id': '71399',\n",
       "    'ol_supply_w_id': '10',\n",
       "    'ol_delivery_d': '2018-07-20 00:00:00',\n",
       "    'ol_quantity': 5,\n",
       "    'ol_amount': 19.61,\n",
       "    'ol_dist_info': 'TFlVpbeF503AgkJdvLKeXOVG'},\n",
       "   {'_id': ObjectId('5c4f13cee3ecda1660545a4f'),\n",
       "    'ol_id': '1',\n",
       "    'ol_d_id': '1',\n",
       "    'ol_w_id': '10',\n",
       "    'ol_number': '5',\n",
       "    'ol_i_id': '44809',\n",
       "    'ol_supply_w_id': '10',\n",
       "    'ol_delivery_d': '2018-07-20 00:00:00',\n",
       "    'ol_quantity': 5,\n",
       "    'ol_amount': 58.72,\n",
       "    'ol_dist_info': 'oVDf9KKQlUOQSJqyaqB12oto'},\n",
       "   {'_id': ObjectId('5c4f13cee3ecda1660545a50'),\n",
       "    'ol_id': '1',\n",
       "    'ol_d_id': '1',\n",
       "    'ol_w_id': '10',\n",
       "    'ol_number': '6',\n",
       "    'ol_i_id': '64643',\n",
       "    'ol_supply_w_id': '10',\n",
       "    'ol_delivery_d': '2018-07-20 00:00:00',\n",
       "    'ol_quantity': 5,\n",
       "    'ol_amount': 75.5,\n",
       "    'ol_dist_info': 'WFzApty1GGdKUkOt3DYTyaNR'},\n",
       "   {'_id': ObjectId('5c4f13cee3ecda1660545a51'),\n",
       "    'ol_id': '1',\n",
       "    'ol_d_id': '1',\n",
       "    'ol_w_id': '10',\n",
       "    'ol_number': '7',\n",
       "    'ol_i_id': '51472',\n",
       "    'ol_supply_w_id': '10',\n",
       "    'ol_delivery_d': '2018-07-20 00:00:00',\n",
       "    'ol_quantity': 5,\n",
       "    'ol_amount': 55.66,\n",
       "    'ol_dist_info': 'GCLmjmUhvMNHNUpAdOpp6rv5'},\n",
       "   {'_id': ObjectId('5c4f13cee3ecda1660545a52'),\n",
       "    'ol_id': '1',\n",
       "    'ol_d_id': '1',\n",
       "    'ol_w_id': '10',\n",
       "    'ol_number': '8',\n",
       "    'ol_i_id': '86128',\n",
       "    'ol_supply_w_id': '10',\n",
       "    'ol_delivery_d': '2018-07-20 00:00:00',\n",
       "    'ol_quantity': 5,\n",
       "    'ol_amount': 91.05,\n",
       "    'ol_dist_info': 'bQfeAWHuoAgc7tmaIVKblfM2'}]}]"
      ]
     },
     "execution_count": 11,
     "metadata": {},
     "output_type": "execute_result"
    }
   ],
   "source": [
    "list(\n",
    "    db.Semi_40.find({\n",
    "        \"$and\": [{\n",
    "            \"o_id\": \"1\"\n",
    "        }, {\n",
    "            \"o_c_id\": \"1\"\n",
    "        }, {\n",
    "            \"o_d_id\": \"1\"\n",
    "        }, {\n",
    "            \"o_w_id\": \"10\"\n",
    "        }]\n",
    "    }, {\n",
    "        \"_id\": 0,\n",
    "    }))"
   ]
  },
  {
   "cell_type": "markdown",
   "metadata": {},
   "source": [
    "## Adjonction des index de la collection `Semi_40`"
   ]
  },
  {
   "cell_type": "code",
   "execution_count": 12,
   "metadata": {},
   "outputs": [
    {
     "data": {
      "text/plain": [
       "['_id_', 'o_id_1', 'o_d_id_1', 'o_w_id_1', 'o_c_id_1']"
      ]
     },
     "execution_count": 12,
     "metadata": {},
     "output_type": "execute_result"
    }
   ],
   "source": [
    "result = db.Semi_40.create_index([('o_id', pymongo.ASCENDING)])\n",
    "result = db.Semi_40.create_index([('o_d_id', pymongo.ASCENDING)])\n",
    "result = db.Semi_40.create_index([('o_w_id', pymongo.ASCENDING)])\n",
    "result = db.Semi_40.create_index([('o_c_id', pymongo.ASCENDING)])\n",
    "list(db.Semi_40.index_information())"
   ]
  },
  {
   "cell_type": "markdown",
   "metadata": {},
   "source": [
    "# Dénormalisation"
   ]
  },
  {
   "cell_type": "markdown",
   "metadata": {},
   "source": [
    "## Création du fichier au format JSON"
   ]
  },
  {
   "cell_type": "code",
   "execution_count": 13,
   "metadata": {},
   "outputs": [
    {
     "name": "stdout",
     "output_type": "stream",
     "text": [
      "Fichier Denormal_40.json est créé avec succès.\n"
     ]
    }
   ],
   "source": [
    "i = 1\n",
    "while i <= 3000:\n",
    "    i_str = str(i)\n",
    "    ujson.dumps(\n",
    "        db.Customer_40.aggregate(\n",
    "            [{\n",
    "                \"$match\": {\n",
    "                    \"c_id\": i_str\n",
    "                }\n",
    "            },\n",
    "             {\n",
    "                 \"$lookup\": {\n",
    "                     \"from\":\n",
    "                     \"Semi_40\",\n",
    "                     \"let\": {\n",
    "                         \"c_id\": \"$c_id\",\n",
    "                         \"c_d_id\": \"$c_d_id\",\n",
    "                         \"c_w_id\": \"$c_w_id\"\n",
    "                     },\n",
    "                     \"pipeline\": [{\n",
    "                         \"$match\": {\n",
    "                             \"$expr\": {\n",
    "                                 \"$and\": [{\n",
    "                                     \"$eq\": [\"$o_c_id\", \"$$c_id\"]\n",
    "                                 }, {\n",
    "                                     \"$eq\": [\"$o_d_id\", \"$$c_d_id\"]\n",
    "                                 }, {\n",
    "                                     \"$eq\": [\"$o_w_id\", \"$$c_w_id\"]\n",
    "                                 }]\n",
    "                             }\n",
    "                         }\n",
    "                     }],\n",
    "                     \"as\":\n",
    "                     \"customer_order\"\n",
    "                 }\n",
    "             }, {\n",
    "                 \"$out\": \"tmp\"\n",
    "             }]))\n",
    "    cursor = db.tmp.find({})\n",
    "    file = open(\"./Denormalization/Denormal_40.json\", \"a\")\n",
    "    for document in cursor:\n",
    "        file.write(json.dumps(document, default=json_util.default))\n",
    "        file.write('\\n')\n",
    "    i += 1\n",
    "print(\"Fichier Denormal_40.json est créé avec succès.\")"
   ]
  },
  {
   "cell_type": "markdown",
   "metadata": {},
   "source": [
    "##  Installation de la collection `Denormal_40`"
   ]
  },
  {
   "cell_type": "code",
   "execution_count": 14,
   "metadata": {},
   "outputs": [
    {
     "name": "stdout",
     "output_type": "stream",
     "text": [
      "Fichier Denormal_40.json est inséré avec succès.\n"
     ]
    }
   ],
   "source": [
    "Denormal_40 = db[\"Denormal_40\"]\n",
    "\n",
    "data = []\n",
    "with open(\"./Denormalization/Denormal_40.json\", \"r\") as f:\n",
    "    for line in f:\n",
    "        data.append(loads(line))\n",
    "Denormal_40.insert_many(data)\n",
    "print(\"Fichier Denormal_40.json est inséré avec succès.\")"
   ]
  },
  {
   "cell_type": "markdown",
   "metadata": {},
   "source": [
    "## Monstration d’un échantillon"
   ]
  },
  {
   "cell_type": "code",
   "execution_count": 15,
   "metadata": {},
   "outputs": [
    {
     "data": {
      "text/plain": [
       "[{'c_id': '1',\n",
       "  'c_d_id': '1',\n",
       "  'c_w_id': '40',\n",
       "  'c_first': '4Qw3Y9ZDxXAXDRG',\n",
       "  'c_middle': 'OE',\n",
       "  'c_last': 'BARBARBAR',\n",
       "  'c_street_1': 'lz2KO4gJKLakc',\n",
       "  'c_street_2': 'EOu1l3PLpGmEJ1v',\n",
       "  'c_city': 'naosxy8G8qfVCCjUaG',\n",
       "  'c_state': 'MP',\n",
       "  'c_zip': '4Cu0Lwmr6',\n",
       "  'c_phone': '0822896697937027',\n",
       "  'c_since': '2018-07-26 00:00:00',\n",
       "  'c_credit': 'BC',\n",
       "  'c_credit_lim': '50000',\n",
       "  'c_discount': '0.42',\n",
       "  'c_balance': -10.0,\n",
       "  'c_ytd_payment': 10.0,\n",
       "  'c_payment_cnt': 1,\n",
       "  'c_delivery_cnt': 0,\n",
       "  'c_data': '5Wr8H75gWxv7UDmYIIfpuZxw37dFbLwbWG3ELDxpuq1SRP54mtSEDmPDJDq50oYBZW2ICcfnEjhDlxiEHL5lRnhsivPdRFH62ochj841yJE0U6GsxDXBLBFOs9rirIMwZuhlphyEEQfYs3Owk6f381USxqMamMLWgmoLKX6UomTs9jbse61VKhRJD9UWrHpp3bkrwFeJCYPywNTc9vEapJ9hl8UH0lodT47OvUruJ0hvHSB2AIB4MrNWnBtL96cz9lJ3nE7UsKucAQHDFXPiUTvHavL78lH8vITHBL5iPlMtjzF8HYtpbFHtLAu9N5oI6t7q3NCJbaLCqZuS9kGpmd5Xmmh4kAnhkX4ULPQJ4QUc3h5fZUVHXeKSyk0ppmhWbxpxl5wiKq8GcqwHNCDIMp3WUAUguBF89NXZzB41tFnHIClFDKsM5ktBleP',\n",
       "  'customer_order': [{'_id': ObjectId('5c4f1335e3ecda16602ab33a'),\n",
       "    'o_id': '1',\n",
       "    'o_d_id': '1',\n",
       "    'o_w_id': '40',\n",
       "    'o_c_id': '1',\n",
       "    'o_entry_d': '2018-07-25 00:00:00',\n",
       "    'o_carrier_id': '6',\n",
       "    'o_ol_cnt': '8',\n",
       "    'o_all_local': '1',\n",
       "    'order_lines': [{'_id': ObjectId('5c4f16b8e3ecda1660dda4f5'),\n",
       "      'ol_id': '1',\n",
       "      'ol_d_id': '1',\n",
       "      'ol_w_id': '40',\n",
       "      'ol_number': '1',\n",
       "      'ol_i_id': '45362',\n",
       "      'ol_supply_w_id': '40',\n",
       "      'ol_delivery_d': '2018-07-25 00:00:00',\n",
       "      'ol_quantity': 5,\n",
       "      'ol_amount': 44.08,\n",
       "      'ol_dist_info': 'GupkKKM3oSfe1dZWYLYJV6uu'},\n",
       "     {'_id': ObjectId('5c4f16b8e3ecda1660dda4f6'),\n",
       "      'ol_id': '1',\n",
       "      'ol_d_id': '1',\n",
       "      'ol_w_id': '40',\n",
       "      'ol_number': '2',\n",
       "      'ol_i_id': '53344',\n",
       "      'ol_supply_w_id': '40',\n",
       "      'ol_delivery_d': '2018-07-25 00:00:00',\n",
       "      'ol_quantity': 5,\n",
       "      'ol_amount': 37.66,\n",
       "      'ol_dist_info': '3InGsPiqpmec1TaknbWYP9hD'},\n",
       "     {'_id': ObjectId('5c4f16b8e3ecda1660dda4f7'),\n",
       "      'ol_id': '1',\n",
       "      'ol_d_id': '1',\n",
       "      'ol_w_id': '40',\n",
       "      'ol_number': '3',\n",
       "      'ol_i_id': '79749',\n",
       "      'ol_supply_w_id': '40',\n",
       "      'ol_delivery_d': '2018-07-25 00:00:00',\n",
       "      'ol_quantity': 5,\n",
       "      'ol_amount': 3.52,\n",
       "      'ol_dist_info': 'cLzK35aLI8HjARAwCsPmvdpy'},\n",
       "     {'_id': ObjectId('5c4f16b8e3ecda1660dda4f8'),\n",
       "      'ol_id': '1',\n",
       "      'ol_d_id': '1',\n",
       "      'ol_w_id': '40',\n",
       "      'ol_number': '4',\n",
       "      'ol_i_id': '7886',\n",
       "      'ol_supply_w_id': '40',\n",
       "      'ol_delivery_d': '2018-07-25 00:00:00',\n",
       "      'ol_quantity': 5,\n",
       "      'ol_amount': 64.34,\n",
       "      'ol_dist_info': 'dS5onPXQZj9uRTOI0ZmjDatS'},\n",
       "     {'_id': ObjectId('5c4f16b8e3ecda1660dda4f9'),\n",
       "      'ol_id': '1',\n",
       "      'ol_d_id': '1',\n",
       "      'ol_w_id': '40',\n",
       "      'ol_number': '5',\n",
       "      'ol_i_id': '89936',\n",
       "      'ol_supply_w_id': '40',\n",
       "      'ol_delivery_d': '2018-07-25 00:00:00',\n",
       "      'ol_quantity': 5,\n",
       "      'ol_amount': 61.07,\n",
       "      'ol_dist_info': 'LmXIoEDiZkxIcxL971PEjnds'},\n",
       "     {'_id': ObjectId('5c4f16b8e3ecda1660dda4fa'),\n",
       "      'ol_id': '1',\n",
       "      'ol_d_id': '1',\n",
       "      'ol_w_id': '40',\n",
       "      'ol_number': '6',\n",
       "      'ol_i_id': '7635',\n",
       "      'ol_supply_w_id': '40',\n",
       "      'ol_delivery_d': '2018-07-25 00:00:00',\n",
       "      'ol_quantity': 5,\n",
       "      'ol_amount': 52.11,\n",
       "      'ol_dist_info': 'E22272ES0Q5LyuHDc63kZsVv'},\n",
       "     {'_id': ObjectId('5c4f16b8e3ecda1660dda4fb'),\n",
       "      'ol_id': '1',\n",
       "      'ol_d_id': '1',\n",
       "      'ol_w_id': '40',\n",
       "      'ol_number': '7',\n",
       "      'ol_i_id': '96215',\n",
       "      'ol_supply_w_id': '40',\n",
       "      'ol_delivery_d': '2018-07-25 00:00:00',\n",
       "      'ol_quantity': 5,\n",
       "      'ol_amount': 66.23,\n",
       "      'ol_dist_info': 'fHs98HmLU8qP7rTImwh71lhU'},\n",
       "     {'_id': ObjectId('5c4f16b8e3ecda1660dda4fc'),\n",
       "      'ol_id': '1',\n",
       "      'ol_d_id': '1',\n",
       "      'ol_w_id': '40',\n",
       "      'ol_number': '8',\n",
       "      'ol_i_id': '78147',\n",
       "      'ol_supply_w_id': '40',\n",
       "      'ol_delivery_d': '2018-07-25 00:00:00',\n",
       "      'ol_quantity': 5,\n",
       "      'ol_amount': 53.01,\n",
       "      'ol_dist_info': '8LNKVlL41evU0Ja2QGectMhY'}]}]}]"
      ]
     },
     "execution_count": 15,
     "metadata": {},
     "output_type": "execute_result"
    }
   ],
   "source": [
    "list(\n",
    "    db.Denormal_40.find({\n",
    "        \"$and\": [{\n",
    "            \"c_id\": \"1\"\n",
    "        }, {\n",
    "            \"c_d_id\": \"1\"\n",
    "        }, {\n",
    "            \"c_w_id\": \"40\"\n",
    "        }]\n",
    "    }, {\n",
    "        \"_id\": 0,\n",
    "    }))"
   ]
  },
  {
   "cell_type": "markdown",
   "metadata": {},
   "source": [
    "## Adjonction des index de la collection `Denormal_40`"
   ]
  },
  {
   "cell_type": "code",
   "execution_count": 16,
   "metadata": {},
   "outputs": [
    {
     "data": {
      "text/plain": [
       "['_id_', 'c_id_1', 'c_d_id_1', 'c_w_id_1']"
      ]
     },
     "execution_count": 16,
     "metadata": {},
     "output_type": "execute_result"
    }
   ],
   "source": [
    "result = db.Denormal_40.create_index([('c_id', pymongo.ASCENDING)])\n",
    "result = db.Denormal_40.create_index([('c_d_id', pymongo.ASCENDING)])\n",
    "result = db.Denormal_40.create_index([('c_w_id', pymongo.ASCENDING)])\n",
    "list(db.Denormal_40.index_information())"
   ]
  }
 ],
 "metadata": {
  "kernelspec": {
   "display_name": "Python 3",
   "language": "python",
   "name": "python3"
  },
  "language_info": {
   "codemirror_mode": {
    "name": "ipython",
    "version": 3
   },
   "file_extension": ".py",
   "mimetype": "text/x-python",
   "name": "python",
   "nbconvert_exporter": "python",
   "pygments_lexer": "ipython3",
   "version": "3.7.1"
  },
  "nbTranslate": {
   "displayLangs": [
    "fr",
    "en"
   ],
   "hotkey": "alt-t",
   "langInMainMenu": true,
   "sourceLang": "en",
   "targetLang": "fr",
   "useGoogleTranslate": true
  },
  "toc": {
   "base_numbering": 1,
   "nav_menu": {},
   "number_sections": true,
   "sideBar": true,
   "skip_h1_title": false,
   "title_cell": "Table of Contents",
   "title_sidebar": "Contents",
   "toc_cell": false,
   "toc_position": {
    "height": "calc(100% - 180px)",
    "left": "10px",
    "top": "150px",
    "width": "320px"
   },
   "toc_section_display": true,
   "toc_window_display": true
  },
  "varInspector": {
   "cols": {
    "lenName": 16,
    "lenType": 16,
    "lenVar": 40
   },
   "kernels_config": {
    "python": {
     "delete_cmd_postfix": "",
     "delete_cmd_prefix": "del ",
     "library": "var_list.py",
     "varRefreshCmd": "print(var_dic_list())"
    },
    "r": {
     "delete_cmd_postfix": ") ",
     "delete_cmd_prefix": "rm(",
     "library": "var_list.r",
     "varRefreshCmd": "cat(var_dic_list()) "
    }
   },
   "position": {
    "height": "279.74px",
    "left": "1404.97px",
    "right": "20px",
    "top": "65.9722px",
    "width": "345.278px"
   },
   "types_to_exclude": [
    "module",
    "function",
    "builtin_function_or_method",
    "instance",
    "_Feature"
   ],
   "window_display": true
  }
 },
 "nbformat": 4,
 "nbformat_minor": 2
}
