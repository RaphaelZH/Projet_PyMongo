{
 "cells": [
  {
   "cell_type": "markdown",
   "metadata": {},
   "source": [
    "# Préparation"
   ]
  },
  {
   "cell_type": "markdown",
   "metadata": {},
   "source": [
    "## Installation des packages"
   ]
  },
  {
   "cell_type": "code",
   "execution_count": 1,
   "metadata": {},
   "outputs": [],
   "source": [
    "import pymongo\n",
    "from pymongo import MongoClient\n",
    "import json\n",
    "import ujson\n",
    "from bson import json_util\n",
    "from bson.json_util import loads"
   ]
  },
  {
   "cell_type": "markdown",
   "metadata": {},
   "source": [
    "## Connexion à la base de données"
   ]
  },
  {
   "cell_type": "code",
   "execution_count": 2,
   "metadata": {},
   "outputs": [],
   "source": [
    "client = MongoClient(host=\"localhost\", port=27017)\n",
    "db = client[\"20_Warehouses\"]"
   ]
  },
  {
   "cell_type": "markdown",
   "metadata": {},
   "source": [
    "# Installation des fichiers de normalisation"
   ]
  },
  {
   "cell_type": "markdown",
   "metadata": {},
   "source": [
    "## Installation de la collection `Customer_20`"
   ]
  },
  {
   "cell_type": "code",
   "execution_count": 3,
   "metadata": {},
   "outputs": [
    {
     "name": "stdout",
     "output_type": "stream",
     "text": [
      "Fichiers Customer_1.json, Customer_2_10.json, Customer_11_16.json et Customer_17_20.json sont insérés avec succès.\n"
     ]
    }
   ],
   "source": [
    "Customer_20 = db[\"Customer_20\"]\n",
    "\n",
    "data = []\n",
    "with open(\"../1_Warehouse/Normalization/Customer_1.json\") as f:\n",
    "    for line in f:\n",
    "        data.append(json.loads(line))\n",
    "with open(\"../10_Warehouses/Normalization/Customer_2_10.json\") as f:\n",
    "    for line in f:\n",
    "        data.append(json.loads(line))\n",
    "with open(\"./Normalization/Customer_11_16.json\") as f:\n",
    "    for line in f:\n",
    "        data.append(json.loads(line))\n",
    "with open(\"./Normalization/Customer_17_20.json\") as f:\n",
    "    for line in f:\n",
    "        data.append(json.loads(line))\n",
    "Customer_20.insert_many(data)\n",
    "print(\"Fichiers Customer_1.json, Customer_2_10.json, \\\n",
    "Customer_11_16.json et Customer_17_20.json sont insérés avec succès.\")"
   ]
  },
  {
   "cell_type": "markdown",
   "metadata": {},
   "source": [
    "## Installation de la collection `Order_20`"
   ]
  },
  {
   "cell_type": "code",
   "execution_count": 4,
   "metadata": {
    "code_folding": []
   },
   "outputs": [
    {
     "name": "stdout",
     "output_type": "stream",
     "text": [
      "Fichiers Order_1_10.json et Order_11_20.json sont insérés avec succès.\n"
     ]
    }
   ],
   "source": [
    "Order_20 = db[\"Order_20\"]\n",
    "\n",
    "data = []\n",
    "with open(\"../10_Warehouses/Normalization/Order_1_10.json\") as f:\n",
    "    for line in f:\n",
    "        data.append(json.loads(line))\n",
    "with open(\"./Normalization/Order_11_20.json\") as f:\n",
    "    for line in f:\n",
    "        data.append(json.loads(line))\n",
    "Order_20.insert_many(data)\n",
    "print(\"Fichiers Order_1_10.json et Order_11_20.json sont insérés avec \\\n",
    "succès.\")"
   ]
  },
  {
   "cell_type": "markdown",
   "metadata": {},
   "source": [
    "## Installation de la collection `Order_Line_20`"
   ]
  },
  {
   "cell_type": "code",
   "execution_count": 5,
   "metadata": {},
   "outputs": [
    {
     "name": "stdout",
     "output_type": "stream",
     "text": [
      "Fichier Order_Line_1_20.json est inséré avec succès.\n"
     ]
    }
   ],
   "source": [
    "Order_Line_20 = db[\"Order_Line_20\"]\n",
    "\n",
    "data = []\n",
    "with open(\"./Normalization/Order_Line_1_20.json\") as f:\n",
    "    for line in f:\n",
    "        data.append(json.loads(line))\n",
    "Order_Line_20.insert_many(data)\n",
    "print(\"Fichier Order_Line_1_20.json est inséré avec succès.\")"
   ]
  },
  {
   "cell_type": "markdown",
   "metadata": {},
   "source": [
    "# Adjonction des index des collections installées"
   ]
  },
  {
   "cell_type": "markdown",
   "metadata": {},
   "source": [
    "## Adjonction des index de la collection `Customer_20`"
   ]
  },
  {
   "cell_type": "code",
   "execution_count": 6,
   "metadata": {},
   "outputs": [
    {
     "data": {
      "text/plain": [
       "['_id_', 'c_id_1', 'c_d_id_1', 'c_w_id_1']"
      ]
     },
     "execution_count": 6,
     "metadata": {},
     "output_type": "execute_result"
    }
   ],
   "source": [
    "result = db.Customer_20.create_index([('c_id', pymongo.ASCENDING)])\n",
    "result = db.Customer_20.create_index([('c_d_id', pymongo.ASCENDING)])\n",
    "result = db.Customer_20.create_index([('c_w_id', pymongo.ASCENDING)])\n",
    "list(db.Customer_20.index_information())"
   ]
  },
  {
   "cell_type": "markdown",
   "metadata": {},
   "source": [
    "## Adjonction des index de la collection `Order_20`"
   ]
  },
  {
   "cell_type": "code",
   "execution_count": 7,
   "metadata": {},
   "outputs": [
    {
     "data": {
      "text/plain": [
       "['_id_', 'o_id_1', 'o_d_id_1', 'o_w_id_1', 'o_c_id_1']"
      ]
     },
     "execution_count": 7,
     "metadata": {},
     "output_type": "execute_result"
    }
   ],
   "source": [
    "result = db.Order_20.create_index([('o_id', pymongo.ASCENDING)])\n",
    "result = db.Order_20.create_index([('o_d_id', pymongo.ASCENDING)])\n",
    "result = db.Order_20.create_index([('o_w_id', pymongo.ASCENDING)])\n",
    "result = db.Order_20.create_index([('o_c_id', pymongo.ASCENDING)])\n",
    "list(db.Order_20.index_information())"
   ]
  },
  {
   "cell_type": "markdown",
   "metadata": {},
   "source": [
    "## Adjonction des index de la collection `Order_Line_20`"
   ]
  },
  {
   "cell_type": "code",
   "execution_count": 8,
   "metadata": {},
   "outputs": [
    {
     "data": {
      "text/plain": [
       "['_id_', 'ol_id_1', 'ol_d_id_1', 'ol_w_id_1']"
      ]
     },
     "execution_count": 8,
     "metadata": {},
     "output_type": "execute_result"
    }
   ],
   "source": [
    "result = db.Order_Line_20.create_index([('ol_id', pymongo.ASCENDING)])\n",
    "result = db.Order_Line_20.create_index([('ol_d_id', pymongo.ASCENDING)])\n",
    "result = db.Order_Line_20.create_index([('ol_w_id', pymongo.ASCENDING)])\n",
    "list(db.Order_Line_20.index_information())"
   ]
  },
  {
   "cell_type": "markdown",
   "metadata": {},
   "source": [
    "# Semi-dénormalisation"
   ]
  },
  {
   "cell_type": "markdown",
   "metadata": {},
   "source": [
    "## Création du fichier au format JSON"
   ]
  },
  {
   "cell_type": "code",
   "execution_count": 9,
   "metadata": {},
   "outputs": [
    {
     "name": "stdout",
     "output_type": "stream",
     "text": [
      "Fichier Semi_20.json est créé avec succès.\n"
     ]
    }
   ],
   "source": [
    "i = 1\n",
    "while i <= 3000:\n",
    "    i_str = str(i)\n",
    "    ujson.dumps(\n",
    "        db.Order_20.aggregate(\n",
    "            [{\n",
    "                \"$match\": {\n",
    "                    \"o_id\": i_str\n",
    "                }\n",
    "            },\n",
    "             {\n",
    "                 \"$lookup\": {\n",
    "                     \"from\":\n",
    "                     \"Order_Line_20\",\n",
    "                     \"let\": {\n",
    "                         \"o_id\": \"$o_id\",\n",
    "                         \"o_d_id\": \"$o_d_id\",\n",
    "                         \"o_w_id\": \"$o_w_id\"\n",
    "                     },\n",
    "                     \"pipeline\": [{\n",
    "                         \"$match\": {\n",
    "                             \"$expr\": {\n",
    "                                 \"$and\": [{\n",
    "                                     \"$eq\": [\"$ol_id\", \"$$o_id\"]\n",
    "                                 }, {\n",
    "                                     \"$eq\": [\"$ol_d_id\", \"$$o_d_id\"]\n",
    "                                 }, {\n",
    "                                     \"$eq\": [\"$ol_w_id\", \"$$o_w_id\"]\n",
    "                                 }]\n",
    "                             }\n",
    "                         }\n",
    "                     }],\n",
    "                     \"as\":\n",
    "                     \"order_lines\"\n",
    "                 }\n",
    "             }, {\n",
    "                 \"$out\": \"tmp\"\n",
    "             }]))\n",
    "    cursor = db.tmp.find({})\n",
    "    file = open(\"./Denormalization/Semi_20.json\", \"a\")\n",
    "    for document in cursor:\n",
    "        file.write(json.dumps(document, default=json_util.default))\n",
    "        file.write('\\n')\n",
    "    i += 1\n",
    "\n",
    "print(\"Fichier Semi_20.json est créé avec succès.\")"
   ]
  },
  {
   "cell_type": "markdown",
   "metadata": {},
   "source": [
    "##  Installation de la collection `Semi_20`"
   ]
  },
  {
   "cell_type": "code",
   "execution_count": 10,
   "metadata": {},
   "outputs": [
    {
     "name": "stdout",
     "output_type": "stream",
     "text": [
      "Fichier Semi_20.json est inséré avec succès.\n"
     ]
    }
   ],
   "source": [
    "Semi_20 = db[\"Semi_20\"]\n",
    "\n",
    "data = []\n",
    "with open(\"./Denormalization/Semi_20.json\", \"r\") as f:\n",
    "    for line in f:\n",
    "        data.append(loads(line))\n",
    "Semi_20.insert_many(data)\n",
    "print(\"Fichier Semi_20.json est inséré avec succès.\")"
   ]
  },
  {
   "cell_type": "markdown",
   "metadata": {},
   "source": [
    "## Monstration d’un échantillon"
   ]
  },
  {
   "cell_type": "code",
   "execution_count": 11,
   "metadata": {},
   "outputs": [
    {
     "data": {
      "text/plain": [
       "[{'o_id': '1',\n",
       "  'o_d_id': '1',\n",
       "  'o_w_id': '20',\n",
       "  'o_c_id': '1',\n",
       "  'o_entry_d': '2018-07-20 00:00:00',\n",
       "  'o_carrier_id': '7',\n",
       "  'o_ol_cnt': '6',\n",
       "  'o_all_local': '1',\n",
       "  'order_lines': [{'_id': ObjectId('5c4dab1ce3ecda0fe0f02f4f'),\n",
       "    'ol_id': '1',\n",
       "    'ol_d_id': '1',\n",
       "    'ol_w_id': '20',\n",
       "    'ol_number': '1',\n",
       "    'ol_i_id': '79265',\n",
       "    'ol_supply_w_id': '20',\n",
       "    'ol_delivery_d': '2018-07-20 00:00:00',\n",
       "    'ol_quantity': 5,\n",
       "    'ol_amount': 99.26,\n",
       "    'ol_dist_info': 'sCUbLg8BXXqcCSXRS98wTZGp'},\n",
       "   {'_id': ObjectId('5c4dab1ce3ecda0fe0f02f50'),\n",
       "    'ol_id': '1',\n",
       "    'ol_d_id': '1',\n",
       "    'ol_w_id': '20',\n",
       "    'ol_number': '2',\n",
       "    'ol_i_id': '51701',\n",
       "    'ol_supply_w_id': '20',\n",
       "    'ol_delivery_d': '2018-07-20 00:00:00',\n",
       "    'ol_quantity': 5,\n",
       "    'ol_amount': 23.72,\n",
       "    'ol_dist_info': '5AnUqMvMEEN6SPI9YQFPYfqE'},\n",
       "   {'_id': ObjectId('5c4dab1ce3ecda0fe0f02f51'),\n",
       "    'ol_id': '1',\n",
       "    'ol_d_id': '1',\n",
       "    'ol_w_id': '20',\n",
       "    'ol_number': '3',\n",
       "    'ol_i_id': '95150',\n",
       "    'ol_supply_w_id': '20',\n",
       "    'ol_delivery_d': '2018-07-20 00:00:00',\n",
       "    'ol_quantity': 5,\n",
       "    'ol_amount': 22.87,\n",
       "    'ol_dist_info': 'FztvXd5aNHph1NNVrmmqxJDl'},\n",
       "   {'_id': ObjectId('5c4dab1ce3ecda0fe0f02f52'),\n",
       "    'ol_id': '1',\n",
       "    'ol_d_id': '1',\n",
       "    'ol_w_id': '20',\n",
       "    'ol_number': '4',\n",
       "    'ol_i_id': '46692',\n",
       "    'ol_supply_w_id': '20',\n",
       "    'ol_delivery_d': '2018-07-20 00:00:00',\n",
       "    'ol_quantity': 5,\n",
       "    'ol_amount': 0.54,\n",
       "    'ol_dist_info': 'lA6kFnOvp9MCDsjjYu43OS73'},\n",
       "   {'_id': ObjectId('5c4dab1ce3ecda0fe0f02f53'),\n",
       "    'ol_id': '1',\n",
       "    'ol_d_id': '1',\n",
       "    'ol_w_id': '20',\n",
       "    'ol_number': '5',\n",
       "    'ol_i_id': '80633',\n",
       "    'ol_supply_w_id': '20',\n",
       "    'ol_delivery_d': '2018-07-20 00:00:00',\n",
       "    'ol_quantity': 5,\n",
       "    'ol_amount': 6.72,\n",
       "    'ol_dist_info': '7CC7G12ANaySsmApOiSFnrBZ'},\n",
       "   {'_id': ObjectId('5c4dab1ce3ecda0fe0f02f54'),\n",
       "    'ol_id': '1',\n",
       "    'ol_d_id': '1',\n",
       "    'ol_w_id': '20',\n",
       "    'ol_number': '6',\n",
       "    'ol_i_id': '91581',\n",
       "    'ol_supply_w_id': '20',\n",
       "    'ol_delivery_d': '2018-07-20 00:00:00',\n",
       "    'ol_quantity': 5,\n",
       "    'ol_amount': 7.9,\n",
       "    'ol_dist_info': 'mNjbHNM6k25TJg1RpJM8raBR'}]}]"
      ]
     },
     "execution_count": 11,
     "metadata": {},
     "output_type": "execute_result"
    }
   ],
   "source": [
    "list(\n",
    "    db.Semi_20.find({\n",
    "        \"$and\": [{\n",
    "            \"o_id\": \"1\"\n",
    "        }, {\n",
    "            \"o_c_id\": \"1\"\n",
    "        }, {\n",
    "            \"o_d_id\": \"1\"\n",
    "        }, {\n",
    "            \"o_w_id\": \"20\"\n",
    "        }]\n",
    "    }, {\n",
    "        \"_id\": 0,\n",
    "    }))"
   ]
  },
  {
   "cell_type": "markdown",
   "metadata": {},
   "source": [
    "## Adjonction des index de la collection `Semi_20`"
   ]
  },
  {
   "cell_type": "code",
   "execution_count": 12,
   "metadata": {},
   "outputs": [
    {
     "data": {
      "text/plain": [
       "['_id_', 'o_id_1', 'o_d_id_1', 'o_w_id_1', 'o_c_id_1']"
      ]
     },
     "execution_count": 12,
     "metadata": {},
     "output_type": "execute_result"
    }
   ],
   "source": [
    "result = db.Semi_20.create_index([('o_id', pymongo.ASCENDING)])\n",
    "result = db.Semi_20.create_index([('o_d_id', pymongo.ASCENDING)])\n",
    "result = db.Semi_20.create_index([('o_w_id', pymongo.ASCENDING)])\n",
    "result = db.Semi_20.create_index([('o_c_id', pymongo.ASCENDING)])\n",
    "list(db.Semi_20.index_information())"
   ]
  },
  {
   "cell_type": "markdown",
   "metadata": {},
   "source": [
    "# Dénormalisation"
   ]
  },
  {
   "cell_type": "markdown",
   "metadata": {},
   "source": [
    "## Création du fichier au format JSON"
   ]
  },
  {
   "cell_type": "code",
   "execution_count": 13,
   "metadata": {},
   "outputs": [
    {
     "name": "stdout",
     "output_type": "stream",
     "text": [
      "Fichier Denormal_20.json est créé avec succès.\n"
     ]
    }
   ],
   "source": [
    "i = 1\n",
    "while i <= 3000:\n",
    "    i_str = str(i)\n",
    "    ujson.dumps(\n",
    "        db.Customer_20.aggregate(\n",
    "            [{\n",
    "                \"$match\": {\n",
    "                    \"c_id\": i_str\n",
    "                }\n",
    "            },\n",
    "             {\n",
    "                 \"$lookup\": {\n",
    "                     \"from\":\n",
    "                     \"Semi_20\",\n",
    "                     \"let\": {\n",
    "                         \"c_id\": \"$c_id\",\n",
    "                         \"c_d_id\": \"$c_d_id\",\n",
    "                         \"c_w_id\": \"$c_w_id\"\n",
    "                     },\n",
    "                     \"pipeline\": [{\n",
    "                         \"$match\": {\n",
    "                             \"$expr\": {\n",
    "                                 \"$and\": [{\n",
    "                                     \"$eq\": [\"$o_c_id\", \"$$c_id\"]\n",
    "                                 }, {\n",
    "                                     \"$eq\": [\"$o_d_id\", \"$$c_d_id\"]\n",
    "                                 }, {\n",
    "                                     \"$eq\": [\"$o_w_id\", \"$$c_w_id\"]\n",
    "                                 }]\n",
    "                             }\n",
    "                         }\n",
    "                     }],\n",
    "                     \"as\":\n",
    "                     \"customer_order\"\n",
    "                 }\n",
    "             }, {\n",
    "                 \"$out\": \"tmp\"\n",
    "             }]))\n",
    "    cursor = db.tmp.find({})\n",
    "    file = open(\"./Denormalization/Denormal_20.json\", \"a\")\n",
    "    for document in cursor:\n",
    "        file.write(json.dumps(document, default=json_util.default))\n",
    "        file.write('\\n')\n",
    "    i += 1\n",
    "print(\"Fichier Denormal_20.json est créé avec succès.\")"
   ]
  },
  {
   "cell_type": "markdown",
   "metadata": {},
   "source": [
    "##  Installation de la collection `Denormal_20`"
   ]
  },
  {
   "cell_type": "code",
   "execution_count": 14,
   "metadata": {},
   "outputs": [
    {
     "name": "stdout",
     "output_type": "stream",
     "text": [
      "Fichier Denormal_20.json est inséré avec succès.\n"
     ]
    }
   ],
   "source": [
    "Denormal_20 = db[\"Denormal_20\"]\n",
    "\n",
    "data = []\n",
    "with open(\"./Denormalization/Denormal_20.json\", \"r\") as f:\n",
    "    for line in f:\n",
    "        data.append(loads(line))\n",
    "Denormal_20.insert_many(data)\n",
    "print(\"Fichier Denormal_20.json est inséré avec succès.\")"
   ]
  },
  {
   "cell_type": "markdown",
   "metadata": {},
   "source": [
    "## Monstration d’un échantillon"
   ]
  },
  {
   "cell_type": "code",
   "execution_count": 15,
   "metadata": {},
   "outputs": [
    {
     "data": {
      "text/plain": [
       "[{'c_id': '1',\n",
       "  'c_d_id': '1',\n",
       "  'c_w_id': '20',\n",
       "  'c_first': 'MTqNFwUjPwkJ',\n",
       "  'c_middle': 'OE',\n",
       "  'c_last': 'BARBARBAR',\n",
       "  'c_street_1': 'JC1fbfxGl0Vnb0B',\n",
       "  'c_street_2': 'jK7DmeQEHJFo',\n",
       "  'c_city': 'nLIOnDBnGx',\n",
       "  'c_state': 'vW',\n",
       "  'c_zip': 'sahR9VXsQ',\n",
       "  'c_phone': '0898660987571287',\n",
       "  'c_since': '2018-07-20 00:00:00',\n",
       "  'c_credit': 'GC',\n",
       "  'c_credit_lim': '50000',\n",
       "  'c_discount': '0.05',\n",
       "  'c_balance': -10.0,\n",
       "  'c_ytd_payment': 10.0,\n",
       "  'c_payment_cnt': 1,\n",
       "  'c_delivery_cnt': 0,\n",
       "  'c_data': 'JDcZmffHaCz34Oyo9CxUtPlufDk1tQbjbKDftA6u2rV71UT5D4tnP0OvTn4P3MrOVDDArFfhjTCJbN3RNNYLJNjy2mPuXbfZKmEi8zE8Bu1FUJK3K5PPv5LHBPv2b0ye6vtj8timEo587dBF28H5u3PblJhEfJuQ65kG5N7Og7HFIAvIUfpTaXUXU2ItAiwyUm8pghLUSo4JcOgXOgibCtfN7ClqIIsWyE6wpVRSYyCeXrCPsFuOSQyaLPH2NtjU4HYtrCIJJbaOonqI6to5hoKd8M1LQBU1mQgzjiYgzp7orayyFoOJRHO41TctJzmGMk6DFLl6bcYVg0He9ZjoMezMe2Ed4SIk9PuJnmm6JV0VYnNlTu3iWHcOTgiuTo4Bt1fVI5VGVUqxYGsq4HlCOCcQhANmh73fcEzfv5d2Y9j4O40tM',\n",
       "  'customer_order': [{'_id': ObjectId('5c4da9d7e3ecda0fe098cb86'),\n",
       "    'o_id': '1',\n",
       "    'o_d_id': '1',\n",
       "    'o_w_id': '20',\n",
       "    'o_c_id': '1',\n",
       "    'o_entry_d': '2018-07-20 00:00:00',\n",
       "    'o_carrier_id': '7',\n",
       "    'o_ol_cnt': '6',\n",
       "    'o_all_local': '1',\n",
       "    'order_lines': [{'_id': ObjectId('5c4dab1ce3ecda0fe0f02f4f'),\n",
       "      'ol_id': '1',\n",
       "      'ol_d_id': '1',\n",
       "      'ol_w_id': '20',\n",
       "      'ol_number': '1',\n",
       "      'ol_i_id': '79265',\n",
       "      'ol_supply_w_id': '20',\n",
       "      'ol_delivery_d': '2018-07-20 00:00:00',\n",
       "      'ol_quantity': 5,\n",
       "      'ol_amount': 99.26,\n",
       "      'ol_dist_info': 'sCUbLg8BXXqcCSXRS98wTZGp'},\n",
       "     {'_id': ObjectId('5c4dab1ce3ecda0fe0f02f50'),\n",
       "      'ol_id': '1',\n",
       "      'ol_d_id': '1',\n",
       "      'ol_w_id': '20',\n",
       "      'ol_number': '2',\n",
       "      'ol_i_id': '51701',\n",
       "      'ol_supply_w_id': '20',\n",
       "      'ol_delivery_d': '2018-07-20 00:00:00',\n",
       "      'ol_quantity': 5,\n",
       "      'ol_amount': 23.72,\n",
       "      'ol_dist_info': '5AnUqMvMEEN6SPI9YQFPYfqE'},\n",
       "     {'_id': ObjectId('5c4dab1ce3ecda0fe0f02f51'),\n",
       "      'ol_id': '1',\n",
       "      'ol_d_id': '1',\n",
       "      'ol_w_id': '20',\n",
       "      'ol_number': '3',\n",
       "      'ol_i_id': '95150',\n",
       "      'ol_supply_w_id': '20',\n",
       "      'ol_delivery_d': '2018-07-20 00:00:00',\n",
       "      'ol_quantity': 5,\n",
       "      'ol_amount': 22.87,\n",
       "      'ol_dist_info': 'FztvXd5aNHph1NNVrmmqxJDl'},\n",
       "     {'_id': ObjectId('5c4dab1ce3ecda0fe0f02f52'),\n",
       "      'ol_id': '1',\n",
       "      'ol_d_id': '1',\n",
       "      'ol_w_id': '20',\n",
       "      'ol_number': '4',\n",
       "      'ol_i_id': '46692',\n",
       "      'ol_supply_w_id': '20',\n",
       "      'ol_delivery_d': '2018-07-20 00:00:00',\n",
       "      'ol_quantity': 5,\n",
       "      'ol_amount': 0.54,\n",
       "      'ol_dist_info': 'lA6kFnOvp9MCDsjjYu43OS73'},\n",
       "     {'_id': ObjectId('5c4dab1ce3ecda0fe0f02f53'),\n",
       "      'ol_id': '1',\n",
       "      'ol_d_id': '1',\n",
       "      'ol_w_id': '20',\n",
       "      'ol_number': '5',\n",
       "      'ol_i_id': '80633',\n",
       "      'ol_supply_w_id': '20',\n",
       "      'ol_delivery_d': '2018-07-20 00:00:00',\n",
       "      'ol_quantity': 5,\n",
       "      'ol_amount': 6.72,\n",
       "      'ol_dist_info': '7CC7G12ANaySsmApOiSFnrBZ'},\n",
       "     {'_id': ObjectId('5c4dab1ce3ecda0fe0f02f54'),\n",
       "      'ol_id': '1',\n",
       "      'ol_d_id': '1',\n",
       "      'ol_w_id': '20',\n",
       "      'ol_number': '6',\n",
       "      'ol_i_id': '91581',\n",
       "      'ol_supply_w_id': '20',\n",
       "      'ol_delivery_d': '2018-07-20 00:00:00',\n",
       "      'ol_quantity': 5,\n",
       "      'ol_amount': 7.9,\n",
       "      'ol_dist_info': 'mNjbHNM6k25TJg1RpJM8raBR'}]},\n",
       "   {'_id': ObjectId('5c4da9d7e3ecda0fe098cbb8'),\n",
       "    'o_id': '51',\n",
       "    'o_d_id': '1',\n",
       "    'o_w_id': '20',\n",
       "    'o_c_id': '1',\n",
       "    'o_entry_d': '2018-07-20 00:00:00',\n",
       "    'o_carrier_id': '9',\n",
       "    'o_ol_cnt': '9',\n",
       "    'o_all_local': '1',\n",
       "    'order_lines': [{'_id': ObjectId('5c4dab1ce3ecda0fe0f0312b'),\n",
       "      'ol_id': '51',\n",
       "      'ol_d_id': '1',\n",
       "      'ol_w_id': '20',\n",
       "      'ol_number': '1',\n",
       "      'ol_i_id': '55104',\n",
       "      'ol_supply_w_id': '20',\n",
       "      'ol_delivery_d': '2018-07-20 00:00:00',\n",
       "      'ol_quantity': 5,\n",
       "      'ol_amount': 9.5,\n",
       "      'ol_dist_info': 'G42xShf1lUtClsUzBZNHS6gl'},\n",
       "     {'_id': ObjectId('5c4dab1ce3ecda0fe0f0312c'),\n",
       "      'ol_id': '51',\n",
       "      'ol_d_id': '1',\n",
       "      'ol_w_id': '20',\n",
       "      'ol_number': '2',\n",
       "      'ol_i_id': '28148',\n",
       "      'ol_supply_w_id': '20',\n",
       "      'ol_delivery_d': '2018-07-20 00:00:00',\n",
       "      'ol_quantity': 5,\n",
       "      'ol_amount': 68.37,\n",
       "      'ol_dist_info': 'IFxpuTvJclcx0VCSxRM2LlSN'},\n",
       "     {'_id': ObjectId('5c4dab1ce3ecda0fe0f0312d'),\n",
       "      'ol_id': '51',\n",
       "      'ol_d_id': '1',\n",
       "      'ol_w_id': '20',\n",
       "      'ol_number': '3',\n",
       "      'ol_i_id': '54913',\n",
       "      'ol_supply_w_id': '20',\n",
       "      'ol_delivery_d': '2018-07-20 00:00:00',\n",
       "      'ol_quantity': 5,\n",
       "      'ol_amount': 82.73,\n",
       "      'ol_dist_info': 'T9au9sOWrvGJAklXZo8KNsho'},\n",
       "     {'_id': ObjectId('5c4dab1ce3ecda0fe0f0312e'),\n",
       "      'ol_id': '51',\n",
       "      'ol_d_id': '1',\n",
       "      'ol_w_id': '20',\n",
       "      'ol_number': '4',\n",
       "      'ol_i_id': '41666',\n",
       "      'ol_supply_w_id': '20',\n",
       "      'ol_delivery_d': '2018-07-20 00:00:00',\n",
       "      'ol_quantity': 5,\n",
       "      'ol_amount': 12.35,\n",
       "      'ol_dist_info': 'vTo0UeZ580oNjurSm7faLZpj'},\n",
       "     {'_id': ObjectId('5c4dab1ce3ecda0fe0f0312f'),\n",
       "      'ol_id': '51',\n",
       "      'ol_d_id': '1',\n",
       "      'ol_w_id': '20',\n",
       "      'ol_number': '5',\n",
       "      'ol_i_id': '11701',\n",
       "      'ol_supply_w_id': '20',\n",
       "      'ol_delivery_d': '2018-07-20 00:00:00',\n",
       "      'ol_quantity': 5,\n",
       "      'ol_amount': 38.58,\n",
       "      'ol_dist_info': 'w81hVr3FFaH8yokCxeoEfdss'},\n",
       "     {'_id': ObjectId('5c4dab1ce3ecda0fe0f03130'),\n",
       "      'ol_id': '51',\n",
       "      'ol_d_id': '1',\n",
       "      'ol_w_id': '20',\n",
       "      'ol_number': '6',\n",
       "      'ol_i_id': '19418',\n",
       "      'ol_supply_w_id': '20',\n",
       "      'ol_delivery_d': '2018-07-20 00:00:00',\n",
       "      'ol_quantity': 5,\n",
       "      'ol_amount': 51.38,\n",
       "      'ol_dist_info': 'RXqtaVLfYhT3YYiuYWVrxcMi'},\n",
       "     {'_id': ObjectId('5c4dab1ce3ecda0fe0f03131'),\n",
       "      'ol_id': '51',\n",
       "      'ol_d_id': '1',\n",
       "      'ol_w_id': '20',\n",
       "      'ol_number': '7',\n",
       "      'ol_i_id': '82123',\n",
       "      'ol_supply_w_id': '20',\n",
       "      'ol_delivery_d': '2018-07-20 00:00:00',\n",
       "      'ol_quantity': 5,\n",
       "      'ol_amount': 89.95,\n",
       "      'ol_dist_info': '7RS7nxvrcAV9gDRl8NoEpV7D'},\n",
       "     {'_id': ObjectId('5c4dab1ce3ecda0fe0f03132'),\n",
       "      'ol_id': '51',\n",
       "      'ol_d_id': '1',\n",
       "      'ol_w_id': '20',\n",
       "      'ol_number': '8',\n",
       "      'ol_i_id': '66040',\n",
       "      'ol_supply_w_id': '20',\n",
       "      'ol_delivery_d': '2018-07-20 00:00:00',\n",
       "      'ol_quantity': 5,\n",
       "      'ol_amount': 50.15,\n",
       "      'ol_dist_info': 'YX3HfDTsJRgQc8WNXIJ0U4xY'},\n",
       "     {'_id': ObjectId('5c4dab1ce3ecda0fe0f03133'),\n",
       "      'ol_id': '51',\n",
       "      'ol_d_id': '1',\n",
       "      'ol_w_id': '20',\n",
       "      'ol_number': '9',\n",
       "      'ol_i_id': '89541',\n",
       "      'ol_supply_w_id': '20',\n",
       "      'ol_delivery_d': '2018-07-20 00:00:00',\n",
       "      'ol_quantity': 5,\n",
       "      'ol_amount': 22.62,\n",
       "      'ol_dist_info': 'UfliKYFEr91N8Kp8a5MUk4I6'}]}]}]"
      ]
     },
     "execution_count": 15,
     "metadata": {},
     "output_type": "execute_result"
    }
   ],
   "source": [
    "list(\n",
    "    db.Denormal_20.find({\n",
    "        \"$and\": [{\n",
    "            \"c_id\": \"1\"\n",
    "        }, {\n",
    "            \"c_d_id\": \"1\"\n",
    "        }, {\n",
    "            \"c_w_id\": \"20\"\n",
    "        }]\n",
    "    }, {\n",
    "        \"_id\": 0,\n",
    "    }))"
   ]
  },
  {
   "cell_type": "markdown",
   "metadata": {},
   "source": [
    "## Adjonction des index de la collection `Denormal_20`"
   ]
  },
  {
   "cell_type": "code",
   "execution_count": 16,
   "metadata": {},
   "outputs": [
    {
     "data": {
      "text/plain": [
       "['_id_', 'c_id_1', 'c_d_id_1', 'c_w_id_1']"
      ]
     },
     "execution_count": 16,
     "metadata": {},
     "output_type": "execute_result"
    }
   ],
   "source": [
    "result = db.Denormal_20.create_index([('c_id', pymongo.ASCENDING)])\n",
    "result = db.Denormal_20.create_index([('c_d_id', pymongo.ASCENDING)])\n",
    "result = db.Denormal_20.create_index([('c_w_id', pymongo.ASCENDING)])\n",
    "list(db.Denormal_20.index_information())"
   ]
  }
 ],
 "metadata": {
  "kernelspec": {
   "display_name": "Python 3",
   "language": "python",
   "name": "python3"
  },
  "language_info": {
   "codemirror_mode": {
    "name": "ipython",
    "version": 3
   },
   "file_extension": ".py",
   "mimetype": "text/x-python",
   "name": "python",
   "nbconvert_exporter": "python",
   "pygments_lexer": "ipython3",
   "version": "3.7.1"
  },
  "nbTranslate": {
   "displayLangs": [
    "fr",
    "en"
   ],
   "hotkey": "alt-t",
   "langInMainMenu": true,
   "sourceLang": "en",
   "targetLang": "fr",
   "useGoogleTranslate": true
  },
  "toc": {
   "base_numbering": 1,
   "nav_menu": {},
   "number_sections": true,
   "sideBar": true,
   "skip_h1_title": false,
   "title_cell": "Table of Contents",
   "title_sidebar": "Contents",
   "toc_cell": false,
   "toc_position": {
    "height": "calc(100% - 180px)",
    "left": "10px",
    "top": "150px",
    "width": "320px"
   },
   "toc_section_display": true,
   "toc_window_display": true
  },
  "varInspector": {
   "cols": {
    "lenName": 16,
    "lenType": 16,
    "lenVar": 40
   },
   "kernels_config": {
    "python": {
     "delete_cmd_postfix": "",
     "delete_cmd_prefix": "del ",
     "library": "var_list.py",
     "varRefreshCmd": "print(var_dic_list())"
    },
    "r": {
     "delete_cmd_postfix": ") ",
     "delete_cmd_prefix": "rm(",
     "library": "var_list.r",
     "varRefreshCmd": "cat(var_dic_list()) "
    }
   },
   "position": {
    "height": "279.74px",
    "left": "1404.97px",
    "right": "20px",
    "top": "65.9722px",
    "width": "345.278px"
   },
   "types_to_exclude": [
    "module",
    "function",
    "builtin_function_or_method",
    "instance",
    "_Feature"
   ],
   "window_display": true
  }
 },
 "nbformat": 4,
 "nbformat_minor": 2
}
