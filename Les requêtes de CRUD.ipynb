{
 "cells": [
  {
   "cell_type": "markdown",
   "metadata": {},
   "source": [
    "# Préparation"
   ]
  },
  {
   "cell_type": "markdown",
   "metadata": {},
   "source": [
    "## Installation des packages"
   ]
  },
  {
   "cell_type": "code",
   "execution_count": 1,
   "metadata": {},
   "outputs": [],
   "source": [
    "import pymongo\n",
    "from pymongo import MongoClient\n",
    "import random\n",
    "import datetime\n"
   ]
  },
  {
   "cell_type": "markdown",
   "metadata": {},
   "source": [
    "## Connexion à la base de données"
   ]
  },
  {
   "cell_type": "code",
   "execution_count": 2,
   "metadata": {},
   "outputs": [],
   "source": [
    "client = MongoClient(host=\"localhost\", port=27017)\n",
    "db = client[\"1_Warehouse\"]"
   ]
  },
  {
   "cell_type": "markdown",
   "metadata": {},
   "source": [
    "## Accès des collections"
   ]
  },
  {
   "cell_type": "code",
   "execution_count": 3,
   "metadata": {},
   "outputs": [],
   "source": [
    "Customer_1 = db[\"Customer_1\"]\n",
    "Order_1 = db[\"Order_1\"]\n",
    "Order_Line_1 = db[\"Order_Line_1\"]\n",
    "Semi_1 = db[\"Semi_1\"]\n",
    "Denormal_1 = db[\"Denormal_1\"]"
   ]
  },
  {
   "cell_type": "markdown",
   "metadata": {},
   "source": [
    "## Création des variables aléatoires"
   ]
  },
  {
   "cell_type": "code",
   "execution_count": 4,
   "metadata": {},
   "outputs": [],
   "source": [
    "district = str(random.randint(1, 10))\n",
    "warehouse = str(random.randint(1, 1))\n",
    "customer = str(random.randint(1, 3000))\n",
    "daytime = str(datetime.datetime.now().strftime(\"%Y-%m-%d %H:%M:%S\"))"
   ]
  },
  {
   "cell_type": "markdown",
   "metadata": {},
   "source": [
    "# La requête C,  créer dix articles à une commande"
   ]
  },
  {
   "cell_type": "markdown",
   "metadata": {},
   "source": [
    "## Sur un groupe de collections de normalisation"
   ]
  },
  {
   "cell_type": "code",
   "execution_count": 5,
   "metadata": {},
   "outputs": [
    {
     "data": {
      "text/plain": [
       "<pymongo.results.InsertManyResult at 0x10d3caf08>"
      ]
     },
     "execution_count": 5,
     "metadata": {},
     "output_type": "execute_result"
    }
   ],
   "source": [
    "Order_1.insert_one({\n",
    "    \"o_id\": \"4001\",\n",
    "    \"o_d_id\": district,\n",
    "    \"o_w_id\": warehouse,\n",
    "    \"o_c_id\": customer,\n",
    "    \"o_entry_d\": daytime,\n",
    "    \"o_carrier_id\": \"4\",\n",
    "    \"o_ol_cnt\": \"10\",\n",
    "    \"o_all_local\": \"1\"\n",
    "})\n",
    "\n",
    "Order_Line_1.insert_many([{\n",
    "    \"ol_id\": \"4001\",\n",
    "    \"ol_d_id\": district,\n",
    "    \"ol_w_id\": warehouse,\n",
    "    \"ol_number\": \"1\",\n",
    "    \"ol_i_id\": \"18\",\n",
    "    \"ol_supply_w_id\": \"1\",\n",
    "    \"ol_delivery_d\": daytime,\n",
    "    \"ol_quantity\": \"5\",\n",
    "    \"ol_amount\": \"28.45\",\n",
    "    \"ol_dist_info\": \"iEzgA7QwZd8gUinzlkVdiNpr\"\n",
    "},\n",
    "                          {\n",
    "                              \"ol_id\": \"4001\",\n",
    "                              \"ol_d_id\": district,\n",
    "                              \"ol_w_id\": warehouse,\n",
    "                              \"ol_number\": \"2\",\n",
    "                              \"ol_i_id\": \"785\",\n",
    "                              \"ol_supply_w_id\": \"1\",\n",
    "                              \"ol_delivery_d\": daytime,\n",
    "                              \"ol_quantity\": \"7\",\n",
    "                              \"ol_amount\": \"28.45\",\n",
    "                              \"ol_dist_info\": \"cEheMfYt4oYQPe4ePeSYxPyo\"\n",
    "                          },\n",
    "                          {\n",
    "                              \"ol_id\": \"4001\",\n",
    "                              \"ol_d_id\": district,\n",
    "                              \"ol_w_id\": warehouse,\n",
    "                              \"ol_number\": \"3\",\n",
    "                              \"ol_i_id\": \"712\",\n",
    "                              \"ol_supply_w_id\": \"1\",\n",
    "                              \"ol_delivery_d\": daytime,\n",
    "                              \"ol_quantity\": \"4\",\n",
    "                              \"ol_amount\": \"28.45\",\n",
    "                              \"ol_dist_info\": \"rh69x6pYBJoyh3qh8KvgkhvG\"\n",
    "                          },\n",
    "                          {\n",
    "                              \"ol_id\": \"4001\",\n",
    "                              \"ol_d_id\": district,\n",
    "                              \"ol_w_id\": warehouse,\n",
    "                              \"ol_number\": \"4\",\n",
    "                              \"ol_i_id\": \"1257\",\n",
    "                              \"ol_supply_w_id\": \"1\",\n",
    "                              \"ol_delivery_d\": daytime,\n",
    "                              \"ol_quantity\": \"8\",\n",
    "                              \"ol_amount\": \"28.45\",\n",
    "                              \"ol_dist_info\": \"XLdieGnVNMnw1AJhLGC1pz1N\"\n",
    "                          },\n",
    "                          {\n",
    "                              \"ol_id\": \"4001\",\n",
    "                              \"ol_d_id\": district,\n",
    "                              \"ol_w_id\": warehouse,\n",
    "                              \"ol_number\": \"5\",\n",
    "                              \"ol_i_id\": \"2568\",\n",
    "                              \"ol_supply_w_id\": \"1\",\n",
    "                              \"ol_delivery_d\": daytime,\n",
    "                              \"ol_quantity\": \"2\",\n",
    "                              \"ol_amount\": \"28.45\",\n",
    "                              \"ol_dist_info\": \"gNwgQuvSwWeH9CJOVzAl5acI\"\n",
    "                          },\n",
    "                          {\n",
    "                              \"ol_id\": \"4001\",\n",
    "                              \"ol_d_id\": district,\n",
    "                              \"ol_w_id\": warehouse,\n",
    "                              \"ol_number\": \"6\",\n",
    "                              \"ol_i_id\": \"6287\",\n",
    "                              \"ol_supply_w_id\": \"1\",\n",
    "                              \"ol_delivery_d\": daytime,\n",
    "                              \"ol_quantity\": \"9\",\n",
    "                              \"ol_amount\": \"28.45\",\n",
    "                              \"ol_dist_info\": \"MPdoCJRthh7v23wquKgczPhX\"\n",
    "                          },\n",
    "                          {\n",
    "                              \"ol_id\": \"4001\",\n",
    "                              \"ol_d_id\": district,\n",
    "                              \"ol_w_id\": warehouse,\n",
    "                              \"ol_number\": \"7\",\n",
    "                              \"ol_i_id\": \"7788\",\n",
    "                              \"ol_supply_w_id\": \"1\",\n",
    "                              \"ol_delivery_d\": daytime,\n",
    "                              \"ol_quantity\": \"3\",\n",
    "                              \"ol_amount\": \"28.45\",\n",
    "                              \"ol_dist_info\": \"vvrxoFgnYeELo8UKoXrqiY74\"\n",
    "                          },\n",
    "                          {\n",
    "                              \"ol_id\": \"4001\",\n",
    "                              \"ol_d_id\": district,\n",
    "                              \"ol_w_id\": warehouse,\n",
    "                              \"ol_number\": \"8\",\n",
    "                              \"ol_i_id\": \"5589\",\n",
    "                              \"ol_supply_w_id\": \"1\",\n",
    "                              \"ol_delivery_d\": daytime,\n",
    "                              \"ol_quantity\": \"6\",\n",
    "                              \"ol_amount\": \"28.45\",\n",
    "                              \"ol_dist_info\": \"IUvpqUG98e2S3oIrXu1qMUz3\"\n",
    "                          },\n",
    "                          {\n",
    "                              \"ol_id\": \"4001\",\n",
    "                              \"ol_d_id\": district,\n",
    "                              \"ol_w_id\": warehouse,\n",
    "                              \"ol_number\": \"9\",\n",
    "                              \"ol_i_id\": \"5589\",\n",
    "                              \"ol_supply_w_id\": \"1\",\n",
    "                              \"ol_delivery_d\": daytime,\n",
    "                              \"ol_quantity\": \"6\",\n",
    "                              \"ol_amount\": \"28.45\",\n",
    "                              \"ol_dist_info\": \"0mQUiEfHxt9Jf4TyfzDg2dWk\"\n",
    "                          },\n",
    "                          {\n",
    "                              \"ol_id\": \"4001\",\n",
    "                              \"ol_d_id\": district,\n",
    "                              \"ol_w_id\": warehouse,\n",
    "                              \"ol_number\": \"10\",\n",
    "                              \"ol_i_id\": \"5589\",\n",
    "                              \"ol_supply_w_id\": \"1\",\n",
    "                              \"ol_delivery_d\": daytime,\n",
    "                              \"ol_quantity\": \"6\",\n",
    "                              \"ol_amount\": \"28.45\",\n",
    "                              \"ol_dist_info\": \"4UcMfc5X7Tm6HBNWM26eobeh\"\n",
    "                          }])"
   ]
  },
  {
   "cell_type": "markdown",
   "metadata": {},
   "source": [
    "## Sur une collection de semi-dénormalisation"
   ]
  },
  {
   "cell_type": "code",
   "execution_count": 6,
   "metadata": {},
   "outputs": [
    {
     "data": {
      "text/plain": [
       "<pymongo.results.InsertOneResult at 0x10d7c5fc8>"
      ]
     },
     "execution_count": 6,
     "metadata": {},
     "output_type": "execute_result"
    }
   ],
   "source": [
    "order_lines = [{\n",
    "    \"ol_id\": \"4001\",\n",
    "    \"ol_d_id\": district,\n",
    "    \"ol_w_id\": warehouse,\n",
    "    \"ol_number\": \"1\",\n",
    "    \"ol_i_id\": \"18\",\n",
    "    \"ol_supply_w_id\": \"1\",\n",
    "    \"ol_delivery_d\": daytime,\n",
    "    \"ol_quantity\": \"5\",\n",
    "    \"ol_amount\": \"28.45\",\n",
    "    \"ol_dist_info\": \"iEzgA7QwZd8gUinzlkVdiNpr\"\n",
    "},\n",
    "               {\n",
    "                   \"ol_id\": \"4001\",\n",
    "                   \"ol_d_id\": district,\n",
    "                   \"ol_w_id\": warehouse,\n",
    "                   \"ol_number\": \"2\",\n",
    "                   \"ol_i_id\": \"785\",\n",
    "                   \"ol_supply_w_id\": \"1\",\n",
    "                   \"ol_delivery_d\": daytime,\n",
    "                   \"ol_quantity\": \"7\",\n",
    "                   \"ol_amount\": \"28.45\",\n",
    "                   \"ol_dist_info\": \"cEheMfYt4oYQPe4ePeSYxPyo\"\n",
    "               },\n",
    "               {\n",
    "                   \"ol_id\": \"4001\",\n",
    "                   \"ol_d_id\": district,\n",
    "                   \"ol_w_id\": warehouse,\n",
    "                   \"ol_number\": \"3\",\n",
    "                   \"ol_i_id\": \"712\",\n",
    "                   \"ol_supply_w_id\": \"1\",\n",
    "                   \"ol_delivery_d\": daytime,\n",
    "                   \"ol_quantity\": \"4\",\n",
    "                   \"ol_amount\": \"28.45\",\n",
    "                   \"ol_dist_info\": \"rh69x6pYBJoyh3qh8KvgkhvG\"\n",
    "               },\n",
    "               {\n",
    "                   \"ol_id\": \"4001\",\n",
    "                   \"ol_d_id\": district,\n",
    "                   \"ol_w_id\": warehouse,\n",
    "                   \"ol_number\": \"4\",\n",
    "                   \"ol_i_id\": \"1257\",\n",
    "                   \"ol_supply_w_id\": \"1\",\n",
    "                   \"ol_delivery_d\": daytime,\n",
    "                   \"ol_quantity\": \"8\",\n",
    "                   \"ol_amount\": \"28.45\",\n",
    "                   \"ol_dist_info\": \"XLdieGnVNMnw1AJhLGC1pz1N\"\n",
    "               },\n",
    "               {\n",
    "                   \"ol_id\": \"4001\",\n",
    "                   \"ol_d_id\": district,\n",
    "                   \"ol_w_id\": warehouse,\n",
    "                   \"ol_number\": \"5\",\n",
    "                   \"ol_i_id\": \"2568\",\n",
    "                   \"ol_supply_w_id\": \"1\",\n",
    "                   \"ol_delivery_d\": daytime,\n",
    "                   \"ol_quantity\": \"2\",\n",
    "                   \"ol_amount\": \"28.45\",\n",
    "                   \"ol_dist_info\": \"gNwgQuvSwWeH9CJOVzAl5acI\"\n",
    "               },\n",
    "               {\n",
    "                   \"ol_id\": \"4001\",\n",
    "                   \"ol_d_id\": district,\n",
    "                   \"ol_w_id\": warehouse,\n",
    "                   \"ol_number\": \"6\",\n",
    "                   \"ol_i_id\": \"6287\",\n",
    "                   \"ol_supply_w_id\": \"1\",\n",
    "                   \"ol_delivery_d\": daytime,\n",
    "                   \"ol_quantity\": \"9\",\n",
    "                   \"ol_amount\": \"28.45\",\n",
    "                   \"ol_dist_info\": \"MPdoCJRthh7v23wquKgczPhX\"\n",
    "               },\n",
    "               {\n",
    "                   \"ol_id\": \"4001\",\n",
    "                   \"ol_d_id\": district,\n",
    "                   \"ol_w_id\": warehouse,\n",
    "                   \"ol_number\": \"7\",\n",
    "                   \"ol_i_id\": \"7788\",\n",
    "                   \"ol_supply_w_id\": \"1\",\n",
    "                   \"ol_delivery_d\": daytime,\n",
    "                   \"ol_quantity\": \"3\",\n",
    "                   \"ol_amount\": \"28.45\",\n",
    "                   \"ol_dist_info\": \"vvrxoFgnYeELo8UKoXrqiY74\"\n",
    "               },\n",
    "               {\n",
    "                   \"ol_id\": \"4001\",\n",
    "                   \"ol_d_id\": district,\n",
    "                   \"ol_w_id\": warehouse,\n",
    "                   \"ol_number\": \"8\",\n",
    "                   \"ol_i_id\": \"5589\",\n",
    "                   \"ol_supply_w_id\": \"1\",\n",
    "                   \"ol_delivery_d\": daytime,\n",
    "                   \"ol_quantity\": \"6\",\n",
    "                   \"ol_amount\": \"28.45\",\n",
    "                   \"ol_dist_info\": \"IUvpqUG98e2S3oIrXu1qMUz3\"\n",
    "               },\n",
    "               {\n",
    "                   \"ol_id\": \"4001\",\n",
    "                   \"ol_d_id\": district,\n",
    "                   \"ol_w_id\": warehouse,\n",
    "                   \"ol_number\": \"9\",\n",
    "                   \"ol_i_id\": \"5589\",\n",
    "                   \"ol_supply_w_id\": \"1\",\n",
    "                   \"ol_delivery_d\": daytime,\n",
    "                   \"ol_quantity\": \"6\",\n",
    "                   \"ol_amount\": \"28.45\",\n",
    "                   \"ol_dist_info\": \"0mQUiEfHxt9Jf4TyfzDg2dWk\"\n",
    "               },\n",
    "               {\n",
    "                   \"ol_id\": \"4001\",\n",
    "                   \"ol_d_id\": district,\n",
    "                   \"ol_w_id\": warehouse,\n",
    "                   \"ol_number\": \"10\",\n",
    "                   \"ol_i_id\": \"5589\",\n",
    "                   \"ol_supply_w_id\": \"1\",\n",
    "                   \"ol_delivery_d\": daytime,\n",
    "                   \"ol_quantity\": \"6\",\n",
    "                   \"ol_amount\": \"28.45\",\n",
    "                   \"ol_dist_info\": \"4UcMfc5X7Tm6HBNWM26eobeh\"\n",
    "               }]\n",
    "\n",
    "Semi_1.insert_one({\n",
    "    \"o_id\": \"4001\",\n",
    "    \"o_d_id\": district,\n",
    "    \"o_w_id\": warehouse,\n",
    "    \"o_c_id\": customer,\n",
    "    \"o_entry_d\": daytime,\n",
    "    \"o_carrier_id\": \"4\",\n",
    "    \"o_ol_cnt\": \"10\",\n",
    "    \"o_all_local\": \"1\",\n",
    "    \"order_lines\": order_lines\n",
    "})"
   ]
  },
  {
   "cell_type": "markdown",
   "metadata": {},
   "source": [
    "## Sur une collection de dénormalisation"
   ]
  },
  {
   "cell_type": "code",
   "execution_count": 7,
   "metadata": {},
   "outputs": [],
   "source": [
    "Customer_Info = Denormal_1.find_one({\n",
    "    \"$and\": [{\n",
    "        \"c_id\": customer\n",
    "    }, {\n",
    "        \"c_d_id\": district\n",
    "    }, {\n",
    "        \"c_w_id\": warehouse\n",
    "    }]\n",
    "}, {\n",
    "    \"_id\": 0,\n",
    "    \"c_first\": 1,\n",
    "    \"c_middle\": 1,\n",
    "    \"c_last\": 1,\n",
    "    \"c_street_1\": 1,\n",
    "    \"c_street_2\": 1,\n",
    "    \"c_city\": 1,\n",
    "    \"c_state\": 1,\n",
    "    \"c_zip\": 1,\n",
    "    \"c_phone\": 1,\n",
    "    \"c_since\": 1,\n",
    "    \"c_credit\": 1,\n",
    "    \"c_credit_lim\": 1,\n",
    "    \"c_discount\": 1,\n",
    "    \"c_balance\": 1,\n",
    "    \"c_ytd_payment\": 1,\n",
    "    \"c_payment_cnt\": 1,\n",
    "    \"c_delivery_cnt\": 1,\n",
    "    \"c_data\": 1\n",
    "})"
   ]
  },
  {
   "cell_type": "code",
   "execution_count": 8,
   "metadata": {},
   "outputs": [
    {
     "data": {
      "text/plain": [
       "<pymongo.results.UpdateResult at 0x10d7d1b88>"
      ]
     },
     "execution_count": 8,
     "metadata": {},
     "output_type": "execute_result"
    }
   ],
   "source": [
    "customer_order = [{\n",
    "    \"o_id\": \"4001\",\n",
    "    \"o_d_id\": district,\n",
    "    \"o_w_id\": warehouse,\n",
    "    \"o_c_id\": customer,\n",
    "    \"o_entry_d\": daytime,\n",
    "    \"o_carrier_id\": \"4\",\n",
    "    \"o_ol_cnt\": \"10\",\n",
    "    \"o_all_local\": \"1\",\n",
    "    \"order_lines\": order_lines\n",
    "}]\n",
    "\n",
    "Denormal_1.update_one({\n",
    "    \"c_id\": customer,\n",
    "    \"c_d_id\": district,\n",
    "    \"c_w_id\": warehouse\n",
    "}, {\n",
    "    \"$set\": {\n",
    "        \"c_first\": Customer_Info.get(\"c_first\"),\n",
    "        \"c_middle\": Customer_Info.get(\"c_middle\"),\n",
    "        \"c_last\": Customer_Info.get(\"c_last\"),\n",
    "        \"c_street_1\": Customer_Info.get(\"c_street_1\"),\n",
    "        \"c_street_2\": Customer_Info.get(\"c_street_2\"),\n",
    "        \"c_city\": Customer_Info.get(\"c_city\"),\n",
    "        \"c_state\": Customer_Info.get(\"c_state\"),\n",
    "        \"c_zip\": Customer_Info.get(\"c_zip\"),\n",
    "        \"c_phone\": Customer_Info.get(\"c_phone\"),\n",
    "        \"c_since\": Customer_Info.get(\"c_since\"),\n",
    "        \"c_credit\": Customer_Info.get(\"c_credit\"),\n",
    "        \"c_credit_lim\": Customer_Info.get(\"c_credit_lim\"),\n",
    "        \"c_discount\": Customer_Info.get(\"c_first\"),\n",
    "        \"c_balance\": Customer_Info.get(\"c_balance\"),\n",
    "        \"c_ytd_payment\": Customer_Info.get(\"c_ytd_payment\"),\n",
    "        \"c_payment_cnt\": Customer_Info.get(\"c_payment_cnt\"),\n",
    "        \"c_delivery_cnt\": Customer_Info.get(\"c_delivery_cnt\"),\n",
    "        \"c_data\": Customer_Info.get(\"c_data\"),\n",
    "        \"customer_order\": customer_order\n",
    "    }\n",
    "},\n",
    "                      upsert=True)"
   ]
  },
  {
   "cell_type": "markdown",
   "metadata": {},
   "source": [
    "# La requête R, chercher aléatoirement l’information d’un client"
   ]
  },
  {
   "cell_type": "code",
   "execution_count": 9,
   "metadata": {},
   "outputs": [
    {
     "data": {
      "text/plain": [
       "<pymongo.results.UpdateResult at 0x10d7d3bc8>"
      ]
     },
     "execution_count": 9,
     "metadata": {},
     "output_type": "execute_result"
    }
   ],
   "source": [
    "Customer_id = Customer_1.find_one({\n",
    "    \"$and\": [{\n",
    "        \"c_first\": Customer_Info.get(\"c_first\")\n",
    "    }, {\n",
    "        \"c_last\": Customer_Info.get(\"c_last\")\n",
    "    }]\n",
    "}, {\n",
    "    \"_id\": 0,\n",
    "    \"c_id\": 1,\n",
    "    \"c_d_id\": 1,\n",
    "    \"c_w_id\": 1\n",
    "})"
   ]
  },
  {
   "cell_type": "markdown",
   "metadata": {},
   "source": [
    "## Sur un groupe de collections de normalisation"
   ]
  },
  {
   "cell_type": "code",
   "execution_count": 10,
   "metadata": {},
   "outputs": [
    {
     "name": "stdout",
     "output_type": "stream",
     "text": [
      "[{'o_id': '4001'}]\n"
     ]
    }
   ],
   "source": [
    "print(\n",
    "    list(\n",
    "        Order_1.aggregate([{\n",
    "            \"$match\": {\n",
    "                \"$and\": [{\n",
    "                    \"o_c_id\": Customer_id.get(\"c_id\")\n",
    "                }, {\n",
    "                    \"o_d_id\": Customer_id.get(\"c_d_id\")\n",
    "                }, {\n",
    "                    \"o_w_id\": Customer_id.get(\"c_w_id\")\n",
    "                }]\n",
    "            }\n",
    "        }, {\n",
    "            \"$sort\": {\n",
    "                \"o_entry_d\": -1\n",
    "            }\n",
    "        }, {\n",
    "            \"$limit\": 1\n",
    "        }, {\n",
    "            \"$project\": {\n",
    "                \"_id\": 0,\n",
    "                \"o_id\": 1\n",
    "            }\n",
    "        }])))"
   ]
  },
  {
   "cell_type": "markdown",
   "metadata": {},
   "source": [
    "## Sur une collection de semi-dénormalisation"
   ]
  },
  {
   "cell_type": "code",
   "execution_count": 11,
   "metadata": {},
   "outputs": [
    {
     "name": "stdout",
     "output_type": "stream",
     "text": [
      "[{'o_id': '4001'}]\n"
     ]
    }
   ],
   "source": [
    "print(\n",
    "    list(\n",
    "        Semi_1.aggregate([{\n",
    "            \"$match\": {\n",
    "                \"$and\": [{\n",
    "                    \"o_c_id\": Customer_id.get(\"c_id\")\n",
    "                }, {\n",
    "                    \"o_d_id\": Customer_id.get(\"c_d_id\")\n",
    "                }, {\n",
    "                    \"o_w_id\": Customer_id.get(\"c_w_id\")\n",
    "                }]\n",
    "            }\n",
    "        }, {\n",
    "            \"$sort\": {\n",
    "                \"o_entry_d\": -1\n",
    "            }\n",
    "        }, {\n",
    "            \"$limit\": 1\n",
    "        }, {\n",
    "            \"$project\": {\n",
    "                \"_id\": 0,\n",
    "                \"o_id\": 1\n",
    "            }\n",
    "        }])))"
   ]
  },
  {
   "cell_type": "markdown",
   "metadata": {},
   "source": [
    "## Sur une collection de dénormalisation"
   ]
  },
  {
   "cell_type": "code",
   "execution_count": 12,
   "metadata": {},
   "outputs": [
    {
     "name": "stdout",
     "output_type": "stream",
     "text": [
      "[{'customer_order': [{'o_id': '4001'}]}]\n"
     ]
    }
   ],
   "source": [
    "print(\n",
    "    list(\n",
    "        Denormal_1.aggregate([{\n",
    "            \"$match\": {\n",
    "                \"$and\": [{\n",
    "                    \"c_id\": Customer_id.get(\"c_id\")\n",
    "                }, {\n",
    "                    \"c_d_id\": Customer_id.get(\"c_d_id\")\n",
    "                }, {\n",
    "                    \"c_w_id\": Customer_id.get(\"c_w_id\")\n",
    "                }]\n",
    "            }\n",
    "        }, {\n",
    "            \"$sort\": {\n",
    "                \"customer_order.o_entry_d\": -1\n",
    "            }\n",
    "        }, {\n",
    "            \"$limit\": 1\n",
    "        }, {\n",
    "            \"$project\": {\n",
    "                \"_id\": 0,\n",
    "                \"customer_order.o_id\": 1\n",
    "            }\n",
    "        }])))"
   ]
  },
  {
   "cell_type": "markdown",
   "metadata": {},
   "source": [
    "# La requête U, modifier le temps de livraison des dix articles"
   ]
  },
  {
   "cell_type": "markdown",
   "metadata": {},
   "source": [
    "## Sur un groupe de collections de normalisation"
   ]
  },
  {
   "cell_type": "code",
   "execution_count": 13,
   "metadata": {},
   "outputs": [],
   "source": [
    "i = 0\n",
    "for i in range(10):\n",
    "    Order_Line_1.find_one_and_update({\n",
    "        \"ol_delivery_d\": None\n",
    "    }, {\"$set\": {\n",
    "        \"ol_delivery_d\": daytime\n",
    "    }},\n",
    "                                     sort=[(\"ol_id\", pymongo.ASCENDING)])\n",
    "    i += 1"
   ]
  },
  {
   "cell_type": "markdown",
   "metadata": {},
   "source": [
    "## Sur une collection de semi-dénormalisation"
   ]
  },
  {
   "cell_type": "code",
   "execution_count": 14,
   "metadata": {},
   "outputs": [],
   "source": [
    "i = 0\n",
    "for i in range(10):\n",
    "    Semi_1.find_one_and_update({\n",
    "        \"order_lines.ol_delivery_d\": None\n",
    "    }, {\"$set\": {\n",
    "        \"order_lines.$.ol_delivery_d\": daytime\n",
    "    }},\n",
    "                               sort=[(\"order_lines.ol_id\", pymongo.ASCENDING)])\n",
    "    i += 1"
   ]
  },
  {
   "cell_type": "markdown",
   "metadata": {},
   "source": [
    "## Sur une collection de dénormalisation"
   ]
  },
  {
   "cell_type": "code",
   "execution_count": 15,
   "metadata": {},
   "outputs": [],
   "source": [
    "i = 0\n",
    "for i in range(10):\n",
    "    Denormal_1.find_one_and_update(\n",
    "        {\n",
    "            \"customer_order.order_lines.ol_delivery_d\": None\n",
    "        }, {\"$set\": {\n",
    "            \"customer_order.0.order_lines.1.ol_delivery_d\": daytime\n",
    "        }},\n",
    "        sort=[(\"customer_order.order_lines.ol_id\", pymongo.ASCENDING)])\n",
    "    i += 1"
   ]
  },
  {
   "cell_type": "markdown",
   "metadata": {},
   "source": [
    "# La requête D, supprimer aléatoirement d’une commande"
   ]
  },
  {
   "cell_type": "markdown",
   "metadata": {},
   "source": [
    "## Sur un groupe de collections de normalisation"
   ]
  },
  {
   "cell_type": "code",
   "execution_count": 16,
   "metadata": {},
   "outputs": [],
   "source": [
    "Order_Line_Info = Order_Line_1.find_one({\n",
    "    \"$and\": [{\n",
    "        \"ol_delivery_d\": None\n",
    "    }, {\n",
    "        \"ol_d_id\": district\n",
    "    }, {\n",
    "        \"ol_w_id\": warehouse\n",
    "    }]\n",
    "}, {\n",
    "    \"_id\": 0,\n",
    "    \"ol_id\": 1\n",
    "})"
   ]
  },
  {
   "cell_type": "code",
   "execution_count": 17,
   "metadata": {},
   "outputs": [
    {
     "data": {
      "text/plain": [
       "<pymongo.results.DeleteResult at 0x10d7ff388>"
      ]
     },
     "execution_count": 17,
     "metadata": {},
     "output_type": "execute_result"
    }
   ],
   "source": [
    "Order_1.delete_one({\n",
    "    \"$and\": [{\n",
    "        \"o_id\": Order_Line_Info.get(\"ol_id\")\n",
    "    }, {\n",
    "        \"o_d_id\": district\n",
    "    }, {\n",
    "        \"o_w_id\": warehouse\n",
    "    }]\n",
    "})"
   ]
  },
  {
   "cell_type": "code",
   "execution_count": 18,
   "metadata": {},
   "outputs": [
    {
     "data": {
      "text/plain": [
       "<pymongo.results.DeleteResult at 0x10d7ff0c8>"
      ]
     },
     "execution_count": 18,
     "metadata": {},
     "output_type": "execute_result"
    }
   ],
   "source": [
    "Order_1.delete_many({\n",
    "    \"$and\": [{\n",
    "        \"ol_id\": Order_Line_Info.get(\"ol_id\")\n",
    "    }, {\n",
    "        \"ol_d_id\": district\n",
    "    }, {\n",
    "        \"ol_w_id\": warehouse\n",
    "    }]\n",
    "})"
   ]
  },
  {
   "cell_type": "markdown",
   "metadata": {},
   "source": [
    "## Sur une collection de semi-dénormalisation"
   ]
  },
  {
   "cell_type": "code",
   "execution_count": 19,
   "metadata": {},
   "outputs": [],
   "source": [
    "Order_Line_Info = Order_Line_1.find_one({\n",
    "    \"$and\": [{\n",
    "        \"ol_delivery_d\": None\n",
    "    }, {\n",
    "        \"ol_d_id\": district\n",
    "    }, {\n",
    "        \"ol_w_id\": warehouse\n",
    "    }]\n",
    "}, {\n",
    "    \"_id\": 0,\n",
    "    \"ol_id\": 1\n",
    "})"
   ]
  },
  {
   "cell_type": "code",
   "execution_count": 20,
   "metadata": {},
   "outputs": [
    {
     "data": {
      "text/plain": [
       "<pymongo.results.DeleteResult at 0x10d7e4d48>"
      ]
     },
     "execution_count": 20,
     "metadata": {},
     "output_type": "execute_result"
    }
   ],
   "source": [
    "Semi_1.delete_one({\n",
    "    \"$and\": [{\n",
    "        \"o_id\": Order_Line_Info.get(\"ol_id\")\n",
    "    }, {\n",
    "        \"o_d_id\": district\n",
    "    }, {\n",
    "        \"o_w_id\": warehouse\n",
    "    }]\n",
    "})"
   ]
  },
  {
   "cell_type": "markdown",
   "metadata": {},
   "source": [
    "## Sur une collection de dénormalisation"
   ]
  },
  {
   "cell_type": "code",
   "execution_count": 21,
   "metadata": {},
   "outputs": [],
   "source": [
    "Order_Line_Info = Order_Line_1.find_one({\n",
    "    \"$and\": [{\n",
    "        \"ol_delivery_d\": None\n",
    "    }, {\n",
    "        \"ol_d_id\": district\n",
    "    }, {\n",
    "        \"ol_w_id\": warehouse\n",
    "    }]\n",
    "}, {\n",
    "    \"_id\": 0,\n",
    "    \"ol_id\": 1\n",
    "})"
   ]
  },
  {
   "cell_type": "code",
   "execution_count": 22,
   "metadata": {},
   "outputs": [
    {
     "data": {
      "text/plain": [
       "<pymongo.results.UpdateResult at 0x10d7e4fc8>"
      ]
     },
     "execution_count": 22,
     "metadata": {},
     "output_type": "execute_result"
    }
   ],
   "source": [
    "Denormal_1.update_one({\n",
    "    \"customer_order.o_id\": Order_Line_Info.get(\"ol_id\"),\n",
    "    \"customer_order.o_d_id\": district,\n",
    "    \"customer_order.o_w_id\": warehouse\n",
    "}, {\n",
    "    \"$unset\": {\n",
    "        \"customer_order._id\": \"\",\n",
    "        \"customer_order.o_id\": \"\",\n",
    "        \"customer_order.o_d_id\": \"\",\n",
    "        \"customer_order.o_w_id\": \"\",\n",
    "        \"customer_order.o_c_id\": \"\",\n",
    "        \"customer_order.o_entry_d\": \"\",\n",
    "        \"customer_order.o_carrier_id\": \"\",\n",
    "        \"customer_order.o_ol_cnt\": \"\",\n",
    "        \"customer_order.o_all_local\": \"\",\n",
    "        \"customer_order.order_lines\": \"\"\n",
    "    }\n",
    "},\n",
    "                      upsert=True)"
   ]
  }
 ],
 "metadata": {
  "kernelspec": {
   "display_name": "Python 3",
   "language": "python",
   "name": "python3"
  },
  "language_info": {
   "codemirror_mode": {
    "name": "ipython",
    "version": 3
   },
   "file_extension": ".py",
   "mimetype": "text/x-python",
   "name": "python",
   "nbconvert_exporter": "python",
   "pygments_lexer": "ipython3",
   "version": "3.7.1"
  },
  "nbTranslate": {
   "displayLangs": [
    "fr",
    "en"
   ],
   "hotkey": "alt-t",
   "langInMainMenu": true,
   "sourceLang": "en",
   "targetLang": "fr",
   "useGoogleTranslate": true
  },
  "toc": {
   "base_numbering": 1,
   "nav_menu": {},
   "number_sections": true,
   "sideBar": true,
   "skip_h1_title": false,
   "title_cell": "Table of Contents",
   "title_sidebar": "Contents",
   "toc_cell": false,
   "toc_position": {
    "height": "calc(100% - 180px)",
    "left": "10px",
    "top": "150px",
    "width": "273.542px"
   },
   "toc_section_display": true,
   "toc_window_display": true
  },
  "varInspector": {
   "cols": {
    "lenName": 16,
    "lenType": 16,
    "lenVar": 40
   },
   "kernels_config": {
    "python": {
     "delete_cmd_postfix": "",
     "delete_cmd_prefix": "del ",
     "library": "var_list.py",
     "varRefreshCmd": "print(var_dic_list())"
    },
    "r": {
     "delete_cmd_postfix": ") ",
     "delete_cmd_prefix": "rm(",
     "library": "var_list.r",
     "varRefreshCmd": "cat(var_dic_list()) "
    }
   },
   "position": {
    "height": "279.74px",
    "left": "1264.98px",
    "right": "20px",
    "top": "65.9826px",
    "width": "345.278px"
   },
   "types_to_exclude": [
    "module",
    "function",
    "builtin_function_or_method",
    "instance",
    "_Feature"
   ],
   "window_display": true
  }
 },
 "nbformat": 4,
 "nbformat_minor": 2
}
