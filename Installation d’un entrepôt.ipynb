{
 "cells": [
  {
   "cell_type": "markdown",
   "metadata": {},
   "source": [
    "# Préparation"
   ]
  },
  {
   "cell_type": "markdown",
   "metadata": {},
   "source": [
    "## Installation des packages"
   ]
  },
  {
   "cell_type": "code",
   "execution_count": 1,
   "metadata": {},
   "outputs": [],
   "source": [
    "import pymongo\n",
    "from pymongo import MongoClient\n",
    "import json\n",
    "import ujson\n",
    "from bson import json_util\n",
    "from bson.json_util import loads"
   ]
  },
  {
   "cell_type": "markdown",
   "metadata": {},
   "source": [
    "## Connexion à la base de données"
   ]
  },
  {
   "cell_type": "code",
   "execution_count": 2,
   "metadata": {},
   "outputs": [],
   "source": [
    "client = MongoClient(host=\"localhost\", port=27017)\n",
    "db = client[\"1_Warehouse\"]"
   ]
  },
  {
   "cell_type": "markdown",
   "metadata": {},
   "source": [
    "# Installation des fichiers de normalisation"
   ]
  },
  {
   "cell_type": "markdown",
   "metadata": {},
   "source": [
    "## Installation de la collection `Customer_1`"
   ]
  },
  {
   "cell_type": "code",
   "execution_count": 3,
   "metadata": {},
   "outputs": [
    {
     "name": "stdout",
     "output_type": "stream",
     "text": [
      "Fichier Customer_1.json est inséré avec succès.\n"
     ]
    }
   ],
   "source": [
    "Customer_1 = db[\"Customer_1\"]\n",
    "\n",
    "data = []\n",
    "with open(\"./Normalization/Customer_1.json\") as f:\n",
    "    for line in f:\n",
    "        data.append(json.loads(line))\n",
    "Customer_1.insert_many(data)\n",
    "print(\"Fichier Customer_1.json est inséré avec succès.\")"
   ]
  },
  {
   "cell_type": "markdown",
   "metadata": {},
   "source": [
    "## Installation de la collection `Order_1`"
   ]
  },
  {
   "cell_type": "code",
   "execution_count": 4,
   "metadata": {},
   "outputs": [
    {
     "name": "stdout",
     "output_type": "stream",
     "text": [
      "Fichier Order_1.json est inséré avec succès.\n"
     ]
    }
   ],
   "source": [
    "Order_1 = db[\"Order_1\"]\n",
    "\n",
    "data = []\n",
    "with open(\"./Normalization/Order_1.json\") as f:\n",
    "    for line in f:\n",
    "        data.append(json.loads(line))\n",
    "Order_1.insert_many(data)\n",
    "print(\"Fichier Order_1.json est inséré avec succès.\")"
   ]
  },
  {
   "cell_type": "markdown",
   "metadata": {},
   "source": [
    "## Installation de la collection `Order_Line_1`"
   ]
  },
  {
   "cell_type": "code",
   "execution_count": 5,
   "metadata": {},
   "outputs": [
    {
     "name": "stdout",
     "output_type": "stream",
     "text": [
      "Fichier Order_Line_1.json est inséré avec succès.\n"
     ]
    }
   ],
   "source": [
    "Order_Line_1 = db[\"Order_Line_1\"]\n",
    "\n",
    "data = []\n",
    "with open(\"./Normalization/Order_Line_1.json\") as f:\n",
    "    for line in f:\n",
    "        data.append(json.loads(line))\n",
    "Order_Line_1.insert_many(data)\n",
    "print(\"Fichier Order_Line_1.json est inséré avec succès.\")"
   ]
  },
  {
   "cell_type": "markdown",
   "metadata": {},
   "source": [
    "# Adjonction des index des collections installées"
   ]
  },
  {
   "cell_type": "markdown",
   "metadata": {},
   "source": [
    "## Adjonction des index de la collection `Customer_1`"
   ]
  },
  {
   "cell_type": "code",
   "execution_count": 6,
   "metadata": {},
   "outputs": [
    {
     "data": {
      "text/plain": [
       "['_id_', 'c_id_1', 'c_d_id_1', 'c_w_id_1']"
      ]
     },
     "execution_count": 6,
     "metadata": {},
     "output_type": "execute_result"
    }
   ],
   "source": [
    "result = db.Customer_1.create_index([('c_id', pymongo.ASCENDING)])\n",
    "result = db.Customer_1.create_index([('c_d_id', pymongo.ASCENDING)])\n",
    "result = db.Customer_1.create_index([('c_w_id', pymongo.ASCENDING)])\n",
    "list(db.Customer_1.index_information())"
   ]
  },
  {
   "cell_type": "markdown",
   "metadata": {},
   "source": [
    "## Adjonction des index de la collection `Order_1`"
   ]
  },
  {
   "cell_type": "code",
   "execution_count": 7,
   "metadata": {},
   "outputs": [
    {
     "data": {
      "text/plain": [
       "['_id_', 'o_id_1', 'o_d_id_1', 'o_w_id_1', 'o_c_id_1']"
      ]
     },
     "execution_count": 7,
     "metadata": {},
     "output_type": "execute_result"
    }
   ],
   "source": [
    "result = db.Order_1.create_index([('o_id', pymongo.ASCENDING)])\n",
    "result = db.Order_1.create_index([('o_d_id', pymongo.ASCENDING)])\n",
    "result = db.Order_1.create_index([('o_w_id', pymongo.ASCENDING)])\n",
    "result = db.Order_1.create_index([('o_c_id', pymongo.ASCENDING)])\n",
    "list(db.Order_1.index_information())"
   ]
  },
  {
   "cell_type": "markdown",
   "metadata": {},
   "source": [
    "## Adjonction des index de la collection `Order_Line_1`"
   ]
  },
  {
   "cell_type": "code",
   "execution_count": 8,
   "metadata": {},
   "outputs": [
    {
     "data": {
      "text/plain": [
       "['_id_', 'ol_id_1', 'ol_d_id_1', 'ol_w_id_1']"
      ]
     },
     "execution_count": 8,
     "metadata": {},
     "output_type": "execute_result"
    }
   ],
   "source": [
    "result = db.Order_Line_1.create_index([('ol_id', pymongo.ASCENDING)])\n",
    "result = db.Order_Line_1.create_index([('ol_d_id', pymongo.ASCENDING)])\n",
    "result = db.Order_Line_1.create_index([('ol_w_id', pymongo.ASCENDING)])\n",
    "list(db.Order_Line_1.index_information())"
   ]
  },
  {
   "cell_type": "markdown",
   "metadata": {},
   "source": [
    "# Semi-dénormalisation"
   ]
  },
  {
   "cell_type": "markdown",
   "metadata": {},
   "source": [
    "## Création du fichier au format JSON"
   ]
  },
  {
   "cell_type": "code",
   "execution_count": 9,
   "metadata": {},
   "outputs": [
    {
     "name": "stdout",
     "output_type": "stream",
     "text": [
      "Fichier Semi_1.json est créé avec succès.\n"
     ]
    }
   ],
   "source": [
    "i = 1\n",
    "while i <= 4000:\n",
    "    i_str = str(i)\n",
    "    ujson.dumps(\n",
    "        db.Order_1.aggregate(\n",
    "            [{\n",
    "                \"$match\": {\n",
    "                    \"o_id\": i_str\n",
    "                }\n",
    "            },\n",
    "             {\n",
    "                 \"$lookup\": {\n",
    "                     \"from\":\n",
    "                     \"Order_Line_1\",\n",
    "                     \"let\": {\n",
    "                         \"o_id\": \"$o_id\",\n",
    "                         \"o_d_id\": \"$o_d_id\",\n",
    "                         \"o_w_id\": \"$o_w_id\"\n",
    "                     },\n",
    "                     \"pipeline\": [{\n",
    "                         \"$match\": {\n",
    "                             \"$expr\": {\n",
    "                                 \"$and\": [{\n",
    "                                     \"$eq\": [\"$ol_id\", \"$$o_id\"]\n",
    "                                 }, {\n",
    "                                     \"$eq\": [\"$ol_d_id\", \"$$o_d_id\"]\n",
    "                                 }, {\n",
    "                                     \"$eq\": [\"$ol_w_id\", \"$$o_w_id\"]\n",
    "                                 }]\n",
    "                             }\n",
    "                         }\n",
    "                     }],\n",
    "                     \"as\":\n",
    "                     \"order_lines\"\n",
    "                 }\n",
    "             }, {\n",
    "                 \"$out\": \"tmp\"\n",
    "             }]))\n",
    "    cursor = db.tmp.find({})\n",
    "    file = open(\"./Denormalization/Semi_1.json\", \"a\")\n",
    "    for document in cursor:\n",
    "        file.write(json.dumps(document, default=json_util.default))\n",
    "        file.write('\\n')\n",
    "    i += 1\n",
    "\n",
    "print(\"Fichier Semi_1.json est créé avec succès.\")"
   ]
  },
  {
   "cell_type": "markdown",
   "metadata": {},
   "source": [
    "##  Installation de la collection `Semi_1`"
   ]
  },
  {
   "cell_type": "code",
   "execution_count": 10,
   "metadata": {},
   "outputs": [
    {
     "name": "stdout",
     "output_type": "stream",
     "text": [
      "Fichier Semi_1.json est inséré avec succès.\n"
     ]
    }
   ],
   "source": [
    "Semi_1 = db[\"Semi_1\"]\n",
    "\n",
    "data = []\n",
    "with open(\"./Denormalization/Semi_1.json\", \"r\") as f:\n",
    "    for line in f:\n",
    "        data.append(loads(line))\n",
    "Semi_1.insert_many(data)\n",
    "print(\"Fichier Semi_1.json est inséré avec succès.\")"
   ]
  },
  {
   "cell_type": "markdown",
   "metadata": {},
   "source": [
    "## Monstration d’un échantillon"
   ]
  },
  {
   "cell_type": "code",
   "execution_count": 11,
   "metadata": {},
   "outputs": [
    {
     "data": {
      "text/plain": [
       "[{'o_id': '1',\n",
       "  'o_d_id': '1',\n",
       "  'o_w_id': '1',\n",
       "  'o_c_id': '1',\n",
       "  'o_entry_d': '2018-05-31 00:00:00',\n",
       "  'o_carrier_id': '2',\n",
       "  'o_ol_cnt': '9',\n",
       "  'o_all_local': '1',\n",
       "  'order_lines': [{'_id': ObjectId('5c4ea560e3ecda0813deacd9'),\n",
       "    'ol_id': '1',\n",
       "    'ol_d_id': '1',\n",
       "    'ol_w_id': '1',\n",
       "    'ol_number': '1',\n",
       "    'ol_i_id': '93535',\n",
       "    'ol_supply_w_id': '1',\n",
       "    'ol_delivery_d': '2018-05-31 00:00:00',\n",
       "    'ol_quantity': 5,\n",
       "    'ol_amount': 28.67,\n",
       "    'ol_dist_info': '6Afa2bZ4imdTo5W5rY1tkdlX'},\n",
       "   {'_id': ObjectId('5c4ea560e3ecda0813deacda'),\n",
       "    'ol_id': '1',\n",
       "    'ol_d_id': '1',\n",
       "    'ol_w_id': '1',\n",
       "    'ol_number': '2',\n",
       "    'ol_i_id': '1578',\n",
       "    'ol_supply_w_id': '1',\n",
       "    'ol_delivery_d': '2018-05-31 00:00:00',\n",
       "    'ol_quantity': 5,\n",
       "    'ol_amount': 28.45,\n",
       "    'ol_dist_info': 'urnsRgEluLI99hIPaj0FiNSy'},\n",
       "   {'_id': ObjectId('5c4ea560e3ecda0813deacdb'),\n",
       "    'ol_id': '1',\n",
       "    'ol_d_id': '1',\n",
       "    'ol_w_id': '1',\n",
       "    'ol_number': '3',\n",
       "    'ol_i_id': '62015',\n",
       "    'ol_supply_w_id': '1',\n",
       "    'ol_delivery_d': '2018-05-31 00:00:00',\n",
       "    'ol_quantity': 5,\n",
       "    'ol_amount': 31.22,\n",
       "    'ol_dist_info': 'mfouw4XCiJdqKXmcUTvpGqfv'},\n",
       "   {'_id': ObjectId('5c4ea560e3ecda0813deacdc'),\n",
       "    'ol_id': '1',\n",
       "    'ol_d_id': '1',\n",
       "    'ol_w_id': '1',\n",
       "    'ol_number': '4',\n",
       "    'ol_i_id': '5405',\n",
       "    'ol_supply_w_id': '1',\n",
       "    'ol_delivery_d': '2018-05-31 00:00:00',\n",
       "    'ol_quantity': 5,\n",
       "    'ol_amount': 49.05,\n",
       "    'ol_dist_info': 'RakwEiUBYdwiqYThKBIg84Bf'},\n",
       "   {'_id': ObjectId('5c4ea560e3ecda0813deacdd'),\n",
       "    'ol_id': '1',\n",
       "    'ol_d_id': '1',\n",
       "    'ol_w_id': '1',\n",
       "    'ol_number': '5',\n",
       "    'ol_i_id': '26375',\n",
       "    'ol_supply_w_id': '1',\n",
       "    'ol_delivery_d': '2018-05-31 00:00:00',\n",
       "    'ol_quantity': 5,\n",
       "    'ol_amount': 56.8,\n",
       "    'ol_dist_info': 'fmbX2ZTdCONj3rLpsTIkLDH6'},\n",
       "   {'_id': ObjectId('5c4ea560e3ecda0813deacde'),\n",
       "    'ol_id': '1',\n",
       "    'ol_d_id': '1',\n",
       "    'ol_w_id': '1',\n",
       "    'ol_number': '6',\n",
       "    'ol_i_id': '46003',\n",
       "    'ol_supply_w_id': '1',\n",
       "    'ol_delivery_d': '2018-05-31 00:00:00',\n",
       "    'ol_quantity': 5,\n",
       "    'ol_amount': 87.32,\n",
       "    'ol_dist_info': 'n8Pjc2L6m9tkuXd8BEUNl2L0'},\n",
       "   {'_id': ObjectId('5c4ea560e3ecda0813deacdf'),\n",
       "    'ol_id': '1',\n",
       "    'ol_d_id': '1',\n",
       "    'ol_w_id': '1',\n",
       "    'ol_number': '7',\n",
       "    'ol_i_id': '68899',\n",
       "    'ol_supply_w_id': '1',\n",
       "    'ol_delivery_d': '2018-05-31 00:00:00',\n",
       "    'ol_quantity': 5,\n",
       "    'ol_amount': 17.92,\n",
       "    'ol_dist_info': 'Uff0QYuDcebZ3NHDvEM1xf4T'},\n",
       "   {'_id': ObjectId('5c4ea560e3ecda0813deace0'),\n",
       "    'ol_id': '1',\n",
       "    'ol_d_id': '1',\n",
       "    'ol_w_id': '1',\n",
       "    'ol_number': '8',\n",
       "    'ol_i_id': '18618',\n",
       "    'ol_supply_w_id': '1',\n",
       "    'ol_delivery_d': '2018-05-31 00:00:00',\n",
       "    'ol_quantity': 5,\n",
       "    'ol_amount': 23.18,\n",
       "    'ol_dist_info': 'y2bQXgmxN6wug2JUXPjasWMl'},\n",
       "   {'_id': ObjectId('5c4ea560e3ecda0813deace1'),\n",
       "    'ol_id': '1',\n",
       "    'ol_d_id': '1',\n",
       "    'ol_w_id': '1',\n",
       "    'ol_number': '9',\n",
       "    'ol_i_id': '37818',\n",
       "    'ol_supply_w_id': '1',\n",
       "    'ol_delivery_d': '2018-05-31 00:00:00',\n",
       "    'ol_quantity': 5,\n",
       "    'ol_amount': 29.97,\n",
       "    'ol_dist_info': '4F3rHeHOGSHHaGVXiE62Njgn'}]}]"
      ]
     },
     "execution_count": 11,
     "metadata": {},
     "output_type": "execute_result"
    }
   ],
   "source": [
    "list(\n",
    "    db.Semi_1.find({\n",
    "        \"$and\": [{\n",
    "            \"o_id\": \"1\"\n",
    "        }, {\n",
    "            \"o_c_id\": \"1\"\n",
    "        }, {\n",
    "            \"o_d_id\": \"1\"\n",
    "        }, {\n",
    "            \"o_w_id\": \"1\"\n",
    "        }]\n",
    "    }, {\n",
    "        \"_id\": 0,\n",
    "    }))"
   ]
  },
  {
   "cell_type": "markdown",
   "metadata": {},
   "source": [
    "## Adjonction des index de la collection `Semi_1`"
   ]
  },
  {
   "cell_type": "code",
   "execution_count": 12,
   "metadata": {},
   "outputs": [
    {
     "data": {
      "text/plain": [
       "['_id_', 'o_id_1', 'o_d_id_1', 'o_w_id_1', 'o_c_id_1']"
      ]
     },
     "execution_count": 12,
     "metadata": {},
     "output_type": "execute_result"
    }
   ],
   "source": [
    "result = db.Semi_1.create_index([('o_id', pymongo.ASCENDING)])\n",
    "result = db.Semi_1.create_index([('o_d_id', pymongo.ASCENDING)])\n",
    "result = db.Semi_1.create_index([('o_w_id', pymongo.ASCENDING)])\n",
    "result = db.Semi_1.create_index([('o_c_id', pymongo.ASCENDING)])\n",
    "list(db.Semi_1.index_information())"
   ]
  },
  {
   "cell_type": "markdown",
   "metadata": {},
   "source": [
    "# Dénormalisation"
   ]
  },
  {
   "cell_type": "markdown",
   "metadata": {},
   "source": [
    "## Création du fichier au format JSON"
   ]
  },
  {
   "cell_type": "code",
   "execution_count": 13,
   "metadata": {},
   "outputs": [
    {
     "name": "stdout",
     "output_type": "stream",
     "text": [
      "Fichier Denormal_1.json est créé avec succès.\n"
     ]
    }
   ],
   "source": [
    "i = 1\n",
    "while i <= 3000:\n",
    "    i_str = str(i)\n",
    "    ujson.dumps(\n",
    "        db.Customer_1.aggregate(\n",
    "            [{\n",
    "                \"$match\": {\n",
    "                    \"c_id\": i_str\n",
    "                }\n",
    "            },\n",
    "             {\n",
    "                 \"$lookup\": {\n",
    "                     \"from\":\n",
    "                     \"Semi_1\",\n",
    "                     \"let\": {\n",
    "                         \"c_id\": \"$c_id\",\n",
    "                         \"c_d_id\": \"$c_d_id\",\n",
    "                         \"c_w_id\": \"$c_w_id\"\n",
    "                     },\n",
    "                     \"pipeline\": [{\n",
    "                         \"$match\": {\n",
    "                             \"$expr\": {\n",
    "                                 \"$and\": [{\n",
    "                                     \"$eq\": [\"$o_c_id\", \"$$c_id\"]\n",
    "                                 }, {\n",
    "                                     \"$eq\": [\"$o_d_id\", \"$$c_d_id\"]\n",
    "                                 }, {\n",
    "                                     \"$eq\": [\"$o_w_id\", \"$$c_w_id\"]\n",
    "                                 }]\n",
    "                             }\n",
    "                         }\n",
    "                     }],\n",
    "                     \"as\":\n",
    "                     \"customer_order\"\n",
    "                 }\n",
    "             }, {\n",
    "                 \"$out\": \"tmp\"\n",
    "             }]))\n",
    "    cursor = db.tmp.find({})\n",
    "    file = open(\"./Denormalization/Denormal_1.json\", \"a\")\n",
    "    for document in cursor:\n",
    "        file.write(json.dumps(document, default=json_util.default))\n",
    "        file.write('\\n')\n",
    "    i += 1\n",
    "print(\"Fichier Denormal_1.json est créé avec succès.\")"
   ]
  },
  {
   "cell_type": "markdown",
   "metadata": {},
   "source": [
    "##  Installation de la collection `Denormal_1`"
   ]
  },
  {
   "cell_type": "code",
   "execution_count": 14,
   "metadata": {},
   "outputs": [
    {
     "name": "stdout",
     "output_type": "stream",
     "text": [
      "Fichier Denormal_1.json est inséré avec succès.\n"
     ]
    }
   ],
   "source": [
    "Denormal_1 = db[\"Denormal_1\"]\n",
    "\n",
    "data = []\n",
    "with open(\"./Denormalization/Denormal_1.json\", \"r\") as f:\n",
    "    for line in f:\n",
    "        data.append(loads(line))\n",
    "Denormal_1.insert_many(data)\n",
    "print(\"Fichier Denormal_1.json est inséré avec succès.\")"
   ]
  },
  {
   "cell_type": "markdown",
   "metadata": {},
   "source": [
    "## Monstration d’un échantillon"
   ]
  },
  {
   "cell_type": "code",
   "execution_count": 15,
   "metadata": {},
   "outputs": [
    {
     "data": {
      "text/plain": [
       "[{'c_id': '1',\n",
       "  'c_d_id': '1',\n",
       "  'c_w_id': '1',\n",
       "  'c_first': 'HwGCLGahR',\n",
       "  'c_middle': 'OE',\n",
       "  'c_last': 'BARBARBAR',\n",
       "  'c_street_1': 'Hw1j3srzjTfqh2l',\n",
       "  'c_street_2': 'I5p6e157nUzuy5',\n",
       "  'c_city': '7f9XKtCdjY',\n",
       "  'c_state': 'J3',\n",
       "  'c_zip': 'oYd1rLsPy',\n",
       "  'c_phone': '0645826035543990',\n",
       "  'c_since': '2018-05-31 00:00:00',\n",
       "  'c_credit': 'GC',\n",
       "  'c_credit_lim': '50000',\n",
       "  'c_discount': '0.33',\n",
       "  'c_balance': -10.0,\n",
       "  'c_ytd_payment': 10.0,\n",
       "  'c_payment_cnt': 1,\n",
       "  'c_delivery_cnt': 0,\n",
       "  'c_data': 'HJ51z50FOnLHDuME3jaKGCzXP6Fsk6azUKGc0Vjooo8AQ0jW0SJjXMLsBTQvgZ6rtQ80pBnVMU7cHFE7FrF0EJBWAFhm8BqRRr8NUtv1CoxJREMB2hmDuoyWgmbIzRPWp9PXxmMwyndzGH3pVCtOHnZv5HYCIU9UcBv4xMGaxGpuc5woB98WDYVDmkybP3HYzHmOaIrNtceiSvOCiN64xtiwQuMswoegnMnO0EpHFytP4s9GhxW2PpiNdvTJdQsIggCI9JXDxdH5LHke086BbkFCtio38mQyg019D24ObNANpod2lEjv7PzaOsmEOxTW3NKIb2Nis3i1Mab8ZGUq2biR9lRI',\n",
       "  'customer_order': [{'_id': ObjectId('5c4ea55de3ecda0813de204a'),\n",
       "    'o_id': '1',\n",
       "    'o_d_id': '1',\n",
       "    'o_w_id': '1',\n",
       "    'o_c_id': '1',\n",
       "    'o_entry_d': '2018-05-31 00:00:00',\n",
       "    'o_carrier_id': '2',\n",
       "    'o_ol_cnt': '9',\n",
       "    'o_all_local': '1',\n",
       "    'order_lines': [{'_id': ObjectId('5c4ea560e3ecda0813deacd9'),\n",
       "      'ol_id': '1',\n",
       "      'ol_d_id': '1',\n",
       "      'ol_w_id': '1',\n",
       "      'ol_number': '1',\n",
       "      'ol_i_id': '93535',\n",
       "      'ol_supply_w_id': '1',\n",
       "      'ol_delivery_d': '2018-05-31 00:00:00',\n",
       "      'ol_quantity': 5,\n",
       "      'ol_amount': 28.67,\n",
       "      'ol_dist_info': '6Afa2bZ4imdTo5W5rY1tkdlX'},\n",
       "     {'_id': ObjectId('5c4ea560e3ecda0813deacda'),\n",
       "      'ol_id': '1',\n",
       "      'ol_d_id': '1',\n",
       "      'ol_w_id': '1',\n",
       "      'ol_number': '2',\n",
       "      'ol_i_id': '1578',\n",
       "      'ol_supply_w_id': '1',\n",
       "      'ol_delivery_d': '2018-05-31 00:00:00',\n",
       "      'ol_quantity': 5,\n",
       "      'ol_amount': 28.45,\n",
       "      'ol_dist_info': 'urnsRgEluLI99hIPaj0FiNSy'},\n",
       "     {'_id': ObjectId('5c4ea560e3ecda0813deacdb'),\n",
       "      'ol_id': '1',\n",
       "      'ol_d_id': '1',\n",
       "      'ol_w_id': '1',\n",
       "      'ol_number': '3',\n",
       "      'ol_i_id': '62015',\n",
       "      'ol_supply_w_id': '1',\n",
       "      'ol_delivery_d': '2018-05-31 00:00:00',\n",
       "      'ol_quantity': 5,\n",
       "      'ol_amount': 31.22,\n",
       "      'ol_dist_info': 'mfouw4XCiJdqKXmcUTvpGqfv'},\n",
       "     {'_id': ObjectId('5c4ea560e3ecda0813deacdc'),\n",
       "      'ol_id': '1',\n",
       "      'ol_d_id': '1',\n",
       "      'ol_w_id': '1',\n",
       "      'ol_number': '4',\n",
       "      'ol_i_id': '5405',\n",
       "      'ol_supply_w_id': '1',\n",
       "      'ol_delivery_d': '2018-05-31 00:00:00',\n",
       "      'ol_quantity': 5,\n",
       "      'ol_amount': 49.05,\n",
       "      'ol_dist_info': 'RakwEiUBYdwiqYThKBIg84Bf'},\n",
       "     {'_id': ObjectId('5c4ea560e3ecda0813deacdd'),\n",
       "      'ol_id': '1',\n",
       "      'ol_d_id': '1',\n",
       "      'ol_w_id': '1',\n",
       "      'ol_number': '5',\n",
       "      'ol_i_id': '26375',\n",
       "      'ol_supply_w_id': '1',\n",
       "      'ol_delivery_d': '2018-05-31 00:00:00',\n",
       "      'ol_quantity': 5,\n",
       "      'ol_amount': 56.8,\n",
       "      'ol_dist_info': 'fmbX2ZTdCONj3rLpsTIkLDH6'},\n",
       "     {'_id': ObjectId('5c4ea560e3ecda0813deacde'),\n",
       "      'ol_id': '1',\n",
       "      'ol_d_id': '1',\n",
       "      'ol_w_id': '1',\n",
       "      'ol_number': '6',\n",
       "      'ol_i_id': '46003',\n",
       "      'ol_supply_w_id': '1',\n",
       "      'ol_delivery_d': '2018-05-31 00:00:00',\n",
       "      'ol_quantity': 5,\n",
       "      'ol_amount': 87.32,\n",
       "      'ol_dist_info': 'n8Pjc2L6m9tkuXd8BEUNl2L0'},\n",
       "     {'_id': ObjectId('5c4ea560e3ecda0813deacdf'),\n",
       "      'ol_id': '1',\n",
       "      'ol_d_id': '1',\n",
       "      'ol_w_id': '1',\n",
       "      'ol_number': '7',\n",
       "      'ol_i_id': '68899',\n",
       "      'ol_supply_w_id': '1',\n",
       "      'ol_delivery_d': '2018-05-31 00:00:00',\n",
       "      'ol_quantity': 5,\n",
       "      'ol_amount': 17.92,\n",
       "      'ol_dist_info': 'Uff0QYuDcebZ3NHDvEM1xf4T'},\n",
       "     {'_id': ObjectId('5c4ea560e3ecda0813deace0'),\n",
       "      'ol_id': '1',\n",
       "      'ol_d_id': '1',\n",
       "      'ol_w_id': '1',\n",
       "      'ol_number': '8',\n",
       "      'ol_i_id': '18618',\n",
       "      'ol_supply_w_id': '1',\n",
       "      'ol_delivery_d': '2018-05-31 00:00:00',\n",
       "      'ol_quantity': 5,\n",
       "      'ol_amount': 23.18,\n",
       "      'ol_dist_info': 'y2bQXgmxN6wug2JUXPjasWMl'},\n",
       "     {'_id': ObjectId('5c4ea560e3ecda0813deace1'),\n",
       "      'ol_id': '1',\n",
       "      'ol_d_id': '1',\n",
       "      'ol_w_id': '1',\n",
       "      'ol_number': '9',\n",
       "      'ol_i_id': '37818',\n",
       "      'ol_supply_w_id': '1',\n",
       "      'ol_delivery_d': '2018-05-31 00:00:00',\n",
       "      'ol_quantity': 5,\n",
       "      'ol_amount': 29.97,\n",
       "      'ol_dist_info': '4F3rHeHOGSHHaGVXiE62Njgn'}]},\n",
       "   {'_id': ObjectId('5c4ea55de3ecda0813de251f'),\n",
       "    'o_id': '1238',\n",
       "    'o_d_id': '1',\n",
       "    'o_w_id': '1',\n",
       "    'o_c_id': '1',\n",
       "    'o_entry_d': '2018-05-31 00:00:00',\n",
       "    'o_carrier_id': '9',\n",
       "    'o_ol_cnt': '5',\n",
       "    'o_all_local': '1',\n",
       "    'order_lines': [{'_id': ObjectId('5c4ea560e3ecda0813dedd93'),\n",
       "      'ol_id': '1238',\n",
       "      'ol_d_id': '1',\n",
       "      'ol_w_id': '1',\n",
       "      'ol_number': '1',\n",
       "      'ol_i_id': '19044',\n",
       "      'ol_supply_w_id': '1',\n",
       "      'ol_delivery_d': '2018-05-31 00:00:00',\n",
       "      'ol_quantity': 5,\n",
       "      'ol_amount': 95.7,\n",
       "      'ol_dist_info': 'S878D515tfgC0ulPWq2Hisl0'},\n",
       "     {'_id': ObjectId('5c4ea560e3ecda0813dedd94'),\n",
       "      'ol_id': '1238',\n",
       "      'ol_d_id': '1',\n",
       "      'ol_w_id': '1',\n",
       "      'ol_number': '2',\n",
       "      'ol_i_id': '55077',\n",
       "      'ol_supply_w_id': '1',\n",
       "      'ol_delivery_d': '2018-05-31 00:00:00',\n",
       "      'ol_quantity': 5,\n",
       "      'ol_amount': 17.34,\n",
       "      'ol_dist_info': '6CWjo0QRFH3aJ8nLv6OTo6qt'},\n",
       "     {'_id': ObjectId('5c4ea560e3ecda0813dedd95'),\n",
       "      'ol_id': '1238',\n",
       "      'ol_d_id': '1',\n",
       "      'ol_w_id': '1',\n",
       "      'ol_number': '3',\n",
       "      'ol_i_id': '94277',\n",
       "      'ol_supply_w_id': '1',\n",
       "      'ol_delivery_d': '2018-05-31 00:00:00',\n",
       "      'ol_quantity': 5,\n",
       "      'ol_amount': 60.04,\n",
       "      'ol_dist_info': 'l5e8MeyBviE1dXpYr1TofRcW'},\n",
       "     {'_id': ObjectId('5c4ea560e3ecda0813dedd96'),\n",
       "      'ol_id': '1238',\n",
       "      'ol_d_id': '1',\n",
       "      'ol_w_id': '1',\n",
       "      'ol_number': '4',\n",
       "      'ol_i_id': '44412',\n",
       "      'ol_supply_w_id': '1',\n",
       "      'ol_delivery_d': '2018-05-31 00:00:00',\n",
       "      'ol_quantity': 5,\n",
       "      'ol_amount': 84.1,\n",
       "      'ol_dist_info': 'pLE75LrmhilbSY4AB3vwMlAm'},\n",
       "     {'_id': ObjectId('5c4ea560e3ecda0813dedd97'),\n",
       "      'ol_id': '1238',\n",
       "      'ol_d_id': '1',\n",
       "      'ol_w_id': '1',\n",
       "      'ol_number': '5',\n",
       "      'ol_i_id': '16481',\n",
       "      'ol_supply_w_id': '1',\n",
       "      'ol_delivery_d': '2018-05-31 00:00:00',\n",
       "      'ol_quantity': 5,\n",
       "      'ol_amount': 15.36,\n",
       "      'ol_dist_info': 'XupLHfb5UoKFsgowQPFT7UrC'}]}]}]"
      ]
     },
     "execution_count": 15,
     "metadata": {},
     "output_type": "execute_result"
    }
   ],
   "source": [
    "list(\n",
    "    db.Denormal_1.find({\n",
    "        \"$and\": [{\n",
    "            \"c_id\": \"1\"\n",
    "        }, {\n",
    "            \"c_d_id\": \"1\"\n",
    "        }, {\n",
    "            \"c_w_id\": \"1\"\n",
    "        }]\n",
    "    }, {\n",
    "        \"_id\": 0,\n",
    "    }))"
   ]
  },
  {
   "cell_type": "markdown",
   "metadata": {},
   "source": [
    "## Adjonction des index de la collection `Denormal_1`"
   ]
  },
  {
   "cell_type": "code",
   "execution_count": 16,
   "metadata": {},
   "outputs": [
    {
     "data": {
      "text/plain": [
       "['_id_', 'c_id_1', 'c_d_id_1', 'c_w_id_1']"
      ]
     },
     "execution_count": 16,
     "metadata": {},
     "output_type": "execute_result"
    }
   ],
   "source": [
    "result = db.Denormal_1.create_index([('c_id', pymongo.ASCENDING)])\n",
    "result = db.Denormal_1.create_index([('c_d_id', pymongo.ASCENDING)])\n",
    "result = db.Denormal_1.create_index([('c_w_id', pymongo.ASCENDING)])\n",
    "list(db.Denormal_1.index_information())"
   ]
  },
  {
   "cell_type": "code",
   "execution_count": null,
   "metadata": {},
   "outputs": [],
   "source": []
  }
 ],
 "metadata": {
  "kernelspec": {
   "display_name": "Python 3",
   "language": "python",
   "name": "python3"
  },
  "language_info": {
   "codemirror_mode": {
    "name": "ipython",
    "version": 3
   },
   "file_extension": ".py",
   "mimetype": "text/x-python",
   "name": "python",
   "nbconvert_exporter": "python",
   "pygments_lexer": "ipython3",
   "version": "3.7.1"
  },
  "nbTranslate": {
   "displayLangs": [
    "fr",
    "en"
   ],
   "hotkey": "alt-t",
   "langInMainMenu": true,
   "sourceLang": "en",
   "targetLang": "fr",
   "useGoogleTranslate": true
  },
  "toc": {
   "base_numbering": 1,
   "nav_menu": {},
   "number_sections": true,
   "sideBar": true,
   "skip_h1_title": false,
   "title_cell": "Table of Contents",
   "title_sidebar": "Contents",
   "toc_cell": false,
   "toc_position": {
    "height": "calc(100% - 180px)",
    "left": "10px",
    "top": "150px",
    "width": "320px"
   },
   "toc_section_display": true,
   "toc_window_display": true
  },
  "varInspector": {
   "cols": {
    "lenName": 16,
    "lenType": 16,
    "lenVar": 40
   },
   "kernels_config": {
    "python": {
     "delete_cmd_postfix": "",
     "delete_cmd_prefix": "del ",
     "library": "var_list.py",
     "varRefreshCmd": "print(var_dic_list())"
    },
    "r": {
     "delete_cmd_postfix": ") ",
     "delete_cmd_prefix": "rm(",
     "library": "var_list.r",
     "varRefreshCmd": "cat(var_dic_list()) "
    }
   },
   "position": {
    "height": "279.74px",
    "left": "1264.98px",
    "right": "20px",
    "top": "65.9826px",
    "width": "345.278px"
   },
   "types_to_exclude": [
    "module",
    "function",
    "builtin_function_or_method",
    "instance",
    "_Feature"
   ],
   "window_display": true
  }
 },
 "nbformat": 4,
 "nbformat_minor": 2
}
